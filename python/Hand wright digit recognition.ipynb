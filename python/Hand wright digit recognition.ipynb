{
 "cells": [
  {
   "cell_type": "code",
   "execution_count": 1,
   "id": "c3d59508-8fce-4e2f-adff-94c8b57c7b94",
   "metadata": {},
   "outputs": [],
   "source": [
    "import numpy as np\n",
    "import scipy\n",
    "import urllib.request as req\n",
    "import csv\n",
    "import codecs\n",
    "import matplotlib.pyplot as plt"
   ]
  },
  {
   "cell_type": "code",
   "execution_count": 2,
   "id": "58a4632c-6342-4e03-b51e-f39fd886d0b9",
   "metadata": {},
   "outputs": [],
   "source": [
    "class NeuralNet:\n",
    "    #initialing\n",
    "    def __init__(self, inputnodes, hiddennodes, outputnodes, learningrate):\n",
    "        self.inodes = inputnodes\n",
    "        self.hnodes = hiddennodes\n",
    "        self.onodes = outputnodes\n",
    "        # weight matrixes\n",
    "        self.wih = np.random.normal(0.0, pow(self.hnodes, -0.5), (self.hnodes, self.inodes))\n",
    "        self.who = np.random.normal(0.0, pow(self.onodes, -0.5), (self.onodes, self.hnodes))\n",
    "        \n",
    "         # learning rate\n",
    "        self.lr = learningrate\n",
    "        # using sigmoid function for activation function\n",
    "        self.activation_function = lambda x: scipy.special.expit(x)\n",
    "    \n",
    "    # learn the network\n",
    "    def train(self, inputs_list, targets_list):\n",
    "        # make list as 2-dimentional array\n",
    "        inputs = np.array(inputs_list, ndmin=2).T\n",
    "        targets = np.array(targets_list, ndmin=2).T\n",
    "        \n",
    "        # calculate signal of hidden section\n",
    "        hidden_inputs = np.dot(self.wih, inputs)\n",
    "        hidden_outputs = self.activation_function(hidden_inputs)\n",
    "        \n",
    "        # calculate final signals\n",
    "        final_inputs = np.dot(self.who, hidden_outputs)\n",
    "        final_outputs = self.activation_function(final_inputs)\n",
    "        \n",
    "        # error levels\n",
    "        output_errors = targets - final_outputs \n",
    "        hidden_errors = np.dot(self.who.T, output_errors)\n",
    "        \n",
    "        # learning rate update\n",
    "        self.who += self.lr * np.dot((output_errors * final_outputs * (1.0 - final_outputs)), np.transpose(hidden_outputs))\n",
    "        self.wih += self.lr * np.dot((hidden_errors * hidden_outputs * (1.0 - hidden_outputs)), np.transpose(inputs))\n",
    "    \n",
    "     # ask to network\n",
    "    def query(self, inputs_list):\n",
    "        # make list as 2-dimentional\n",
    "        inputs = np.array(inputs_list, ndmin=2).T\n",
    "        \n",
    "        # calculate hidden section signal\n",
    "        hidden_inputs = np.dot(self.wih, inputs)\n",
    "        hidden_outputs = self.activation_function(hidden_inputs)\n",
    "        \n",
    "        # calculate final signals\n",
    "        final_inputs = np.dot(self.who, hidden_outputs)\n",
    "        final_outputs = self.activation_function(final_inputs)\n",
    "        return final_outputs"
   ]
  },
  {
   "cell_type": "code",
   "execution_count": 3,
   "id": "2fa75ece-3698-4db9-9997-2e56549ac795",
   "metadata": {},
   "outputs": [],
   "source": [
    "def file_set():\n",
    "    url = 'https://media.githubusercontent.com/media/freebz/Make-Your-Own-Neural-Network/master/mnist_dataset/mnist_train_100.csv'\n",
    "    response=req.urlopen(url)\n",
    "    train_data_file=csv.reader(codecs.iterdecode(response,'utf-8'))\n",
    "    train_data_list=list(train_data_file)\n",
    "    response.close()\n",
    "    url = 'https://media.githubusercontent.com/media/freebz/Make-Your-Own-Neural-Network/master/mnist_dataset/mnist_test_10.csv'\n",
    "    response = req.urlopen(url)\n",
    "    test_data_file = csv.reader(codecs.iterdecode(response, 'utf-8'))\n",
    "    test_data_list = list(test_data_file)\n",
    "    response.close()\n",
    "    \n",
    "    return train_data_list,test_data_list"
   ]
  },
  {
   "cell_type": "code",
   "execution_count": 4,
   "id": "fba2694c-6767-4408-bfc4-eb99535cf302",
   "metadata": {},
   "outputs": [],
   "source": [
    "def teach_network(n,TR_D,output_nodes):\n",
    "    epochs=5\n",
    "    for e in range(epochs):\n",
    "        for record in TR_D:\n",
    "            all_values = record\n",
    "            inputs = (np.asfarray(all_values[1:]) / 255.0 * 0.99) + 0.01\n",
    "            targets = np.zeros(output_nodes) + 0.01\n",
    "            targets[int(all_values[0])] = 0.99\n",
    "            n.train(inputs, targets)\n",
    "    return n"
   ]
  },
  {
   "cell_type": "code",
   "execution_count": 14,
   "id": "7787dc65-ad0f-438a-8149-2bd6ad1801cd",
   "metadata": {},
   "outputs": [],
   "source": [
    "def test_network(n,TE_D):\n",
    "    scorecard = []\n",
    "    \n",
    "    for record in TE_D:\n",
    "        all_values = record\n",
    "        correct_label = int(all_values[0])\n",
    "        inputs = (np.asfarray(all_values[1:]) / 255.0 * 0.99) + 0.01\n",
    "        \n",
    "        outputs = n.query(inputs)\n",
    "        label = np.argmax(outputs)\n",
    "        if (label == correct_label):\n",
    "            scorecard.append(1)\n",
    "        else:\n",
    "            scorecard.append(0)\n",
    "    scorecard_array = np.asarray(scorecard)\n",
    "    return scorecard_array"
   ]
  },
  {
   "cell_type": "code",
   "execution_count": 6,
   "id": "98b8b752-07a5-4781-b914-eb8e9ee6bf35",
   "metadata": {},
   "outputs": [],
   "source": [
    "def draw_distrib(scores,rate_scores):\n",
    "    title='score distribution by hidden layer perceptron number (50-300)'\n",
    "    plt.scatter(range(50,300),scores[:250],s=3)\n",
    "    plt.xlabel('perceptrons of hidden layer')\n",
    "    plt.ylabel('scores')\n",
    "    plt.title(title)\n",
    "    plt.savefig(title+'.png')\n",
    "    plt.show()\n",
    "    # Image.open(title+'.png').save(title+'.jpg','JPEG')\n",
    "\n",
    "    title='score distribution by learning rates(0.01-10)'\n",
    "    plt.plot(np.arange(0.1,10,0.1),rate_scores[:99])\n",
    "    plt.xlabel('learning_rate')\n",
    "    plt.ylabel('scores')\n",
    "    plt.title(title)\n",
    "    plt.savefig(title+'.png')\n",
    "    plt.show()\n",
    "    # Image.open(title+'.png').save(title+'.jpg','JPEG')"
   ]
  },
  {
   "cell_type": "code",
   "execution_count": 7,
   "id": "ea4ae8bc-53bb-4b25-9702-78c698a2d872",
   "metadata": {},
   "outputs": [],
   "source": [
    "def calc_scores(TR_D,TE_D):\n",
    "    TR_D,TE_D=file_set()\n",
    "    input_nodes=784\n",
    "    output_nodes = 10\n",
    "    \n",
    "    scores=[]\n",
    "    learning_rate=0.3 #as constant\n",
    "    for hidden_nodes in range(50,300):\n",
    "        n = NeuralNet(input_nodes, hidden_nodes, output_nodes, learning_rate)\n",
    "        n=teach_network(n,TR_D,output_nodes)\n",
    "        scorecard=test_network(n,TE_D)\n",
    "        scorecard_array = np.asarray(scorecard)\n",
    "        scores.append(float(scorecard_array.sum()) / scorecard_array.size)\n",
    "\n",
    "    rate_scores=[]\n",
    "    learning_rate=0.1 #as variables\n",
    "    hidden_nodes=100 #as constant\n",
    "    while learning_rate <10:\n",
    "        n = NeuralNet(input_nodes, hidden_nodes, output_nodes, learning_rate)\n",
    "        n=teach_network(n,TR_D,output_nodes)\n",
    "        scorecard=test_network(n,TE_D)\n",
    "\n",
    "        scorecard_array = np.asarray(scorecard)\n",
    "        rate_scores.append(float(scorecard_array.sum()) / scorecard_array.size)\n",
    "        learning_rate+=0.1\n",
    "        \n",
    "    return scores,rate_scores"
   ]
  },
  {
   "cell_type": "code",
   "execution_count": 10,
   "id": "9fb21c2b-a14d-4f04-b09a-b5979c8531ea",
   "metadata": {},
   "outputs": [],
   "source": [
    "def main():\n",
    "    input_nodes=784 #27*27pixels\n",
    "    hidden_nodes = 100\n",
    "    output_nodes = 10\n",
    "    learning_rate=0.3\n",
    "    n = NeuralNet(input_nodes, hidden_nodes, output_nodes, learning_rate)\n",
    "    TR_D,TE_D=file_set()\n",
    "    \n",
    "    n=teach_network(n,TR_D,output_nodes)\n",
    "    scorecard_array=test_network(n,TE_D)\n",
    "    \n",
    "    print(f\"performance(IN_node=784 / HI_node=100 / OUT_node=10 / learning_rate=0.3)\\n{(float(scorecard_array.sum()) / scorecard_array.size)}\")\n",
    "    \n",
    "    # HN_sc,R_sc=calc_scores(TR_D,TE_D)\n",
    "    # draw_distrib(HN_sc,R_sc)"
   ]
  },
  {
   "cell_type": "code",
   "execution_count": 13,
   "id": "4962f0f3-2bb5-4dd7-8682-3b08604bbafe",
   "metadata": {},
   "outputs": [
    {
     "name": "stdout",
     "output_type": "stream",
     "text": [
      "7 7\n",
      "2 2\n",
      "1 1\n",
      "0 0\n",
      "4 4\n",
      "1 1\n",
      "9 4\n",
      "4 9\n",
      "4 5\n",
      "9 9\n",
      "performance(IN_node=784 / HI_node=100 / OUT_node=10 / learning_rate=0.3)\n",
      "0.7\n"
     ]
    }
   ],
   "source": [
    "main()"
   ]
  },
  {
   "cell_type": "code",
   "execution_count": null,
   "id": "8982f87c-541c-4d87-a006-1b1a2c73960f",
   "metadata": {},
   "outputs": [],
   "source": []
  }
 ],
 "metadata": {
  "kernelspec": {
   "display_name": "Python 3 (ipykernel)",
   "language": "python",
   "name": "python3"
  },
  "language_info": {
   "codemirror_mode": {
    "name": "ipython",
    "version": 3
   },
   "file_extension": ".py",
   "mimetype": "text/x-python",
   "name": "python",
   "nbconvert_exporter": "python",
   "pygments_lexer": "ipython3",
   "version": "3.10.6"
  }
 },
 "nbformat": 4,
 "nbformat_minor": 5
}
