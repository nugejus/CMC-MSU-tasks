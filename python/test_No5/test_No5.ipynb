{
 "cells": [
  {
   "cell_type": "code",
   "execution_count": 1,
   "id": "90a2e449-9485-47b7-853d-373a4bc24ced",
   "metadata": {
    "tags": []
   },
   "outputs": [],
   "source": [
    "# 5. Написать программу, позволяющую проверять для текста выполнение закона Ципфа-Мальдеброта. Программа должна:\n",
    "\n",
    "#     1. осуществлять морфологический анализ словоформ текста;\n",
    "#     2. подсчитывать частоты и ранги ра{
 "cells": [
  {
   "cell_type": "code",
   "execution_count": 1,
   "id": "90a2e449-9485-47b7-853d-373a4bc24ced",
   "metadata": {
    "tags": []
   },
   "outputs": [],
   "source": [
    "# 5. Написать программу, позволяющую проверять для текста выполнение закона Ципфа-Мальдеброта. Программа должна:\n",
    "\n",
    "#     1. осуществлять морфологический анализ словоформ текста;\n",
    "#     2. подсчитывать частоты и ранги различных словоформ и лемм;\n",
    "#     3. выводить списки самых частотных словоформ и лемм;\n",
    "#     4. строить графики (реальный и ожидаемый) зависимости относительной частоты от ранга словоформы и леммы.\n",
    "\n",
    "# Отчет: программа с комментариями, подсчитанная статистика, комментарии к способу ее подсчета, описание проведенных тестов, выводы.\n",
    "\n",
    "# Прикладные задачи: оценка естественности текста, определение стиля/жанра текста."
   ]
  },
  {
   "cell_type": "code",
   "execution_count": 2,
   "id": "2a7d3997-e413-430c-b1fb-70c912942b63",
   "metadata": {},
   "outputs": [],
   "source": [
    "#importing modules\n",
    "import nltk\n",
    "from nltk.tokenize import word_tokenize \n",
    "from nltk.tokenize.punkt import PunktSentenceTokenizer\n",
    "\n",
    "import pymorphy2\n",
    "import string\n",
    "from collections import Counter\n",
    "import operator\n",
    "import matplotlib.pyplot as plt"
   ]
  },
  {
   "cell_type": "code",
   "execution_count": 3,
   "id": "34e8175a-409b-4766-b828-50da2310bbba",
   "metadata": {},
   "outputs": [],
   "source": [
    "#method tokenizers\n",
    "\n",
    "def Sent_tokenizing(Text):\n",
    "    #tokenize by sentences\n",
    "    Text_sent_tokenized=[]\n",
    "    tokenizer = PunktSentenceTokenizer()\n",
    "    paragraphs = [p for p in Text.split('\\n') if p] #spliting by \\n\n",
    "    for paragraph in paragraphs:\n",
    "        Text_sent_tokenized += tokenizer.tokenize(paragraph,'russian')\n",
    "    return Text_sent_tokenized\n",
    "\n",
    "def Word_tokenizing(Text):\n",
    "    #tokenize by words\n",
    "    special_words=string.punctuation\n",
    "    special_words+='»'+'«'+'–'+'”'+'“'+'—' #add punctuations, that doesnt excist in module\n",
    "    Text_tokens=nltk.word_tokenize(Text)\n",
    "    t_tokenized=[]\n",
    "    \n",
    "    #delete puntuations\n",
    "    for word in Text_tokens:\n",
    "        if word not in special_words:\n",
    "            t_tokenized.append(word)\n",
    "    return t_tokenized"
   ]
  },
  {
   "cell_type": "code",
   "execution_count": 4,
   "id": "d62a4629-cf4c-42e9-9f15-46b0326aad15",
   "metadata": {},
   "outputs": [],
   "source": [
    "#text preset method\n",
    "#returns \n",
    "#1.dictionary sorted bey absolute frequency\n",
    "#2.dictionary with positions\n",
    "#3.MorphAnalyzer in pymorphy2\n",
    "\n",
    "def text_preset(Text):\n",
    "    #additional methods\n",
    "    def morphy(word,morph):\n",
    "        #retuns normal form and posintion of word\n",
    "        #it mistakes when word has multiple meaning\n",
    "        parse= morph.parse(word)[0]\n",
    "        return parse.normal_form,parse.tag.POS\n",
    "    def import_stop_words():\n",
    "        #stop words including\n",
    "        #words from module were not enough\n",
    "        stop_words_file=open(\"stop_words.txt\",'r',encoding=\"utf-8\")\n",
    "        stop_words_list=stop_words_file.read()\n",
    "        stop_words_file.close()\n",
    "        stop_words=stop_words_list.split('\\n')\n",
    "\n",
    "        return stop_words\n",
    "\n",
    "    #make list to analize morphic structure\n",
    "    #make dictionary to analyze style of text\n",
    "    Text_tokenized=Word_tokenizing(Text)\n",
    "    Text_morphy=[]\n",
    "    Text_dict={}\n",
    "\n",
    "    morph = pymorphy2.MorphAnalyzer()\n",
    "    for word_ in Text_tokenized:\n",
    "        word , pos=morphy(word_,morph)\n",
    "        Text_morphy.append(word)\n",
    "        Text_dict[word]=pos\n",
    "\n",
    "    #clear digits and stop words\n",
    "    Text_cleared=[]\n",
    "    stop_words=import_stop_words()\n",
    "    for word in Text_morphy:\n",
    "        if not word.isdigit() and word not in stop_words:\n",
    "            Text_cleared.append(word)\n",
    "    \n",
    "    Text_counted=dict(Counter(Text_cleared))\n",
    "    Text_sorted=dict(sorted(Text_counted.items(),key=operator.itemgetter(1), reverse=True)) #sort by absolute frequency\n",
    "    \n",
    "    return Text_sorted,Text_dict,morph"
   ]
  },
  {
   "cell_type": "code",
   "execution_count": 5,
   "id": "e3c13a10-d0b4-4483-9c07-129c0d8e6c9f",
   "metadata": {
    "tags": []
   },
   "outputs": [],
   "source": [
    "def frequency_clac(Text_sorted):\n",
    "    def get_wordform_len(word,morph):\n",
    "        #return length of word form in 'word'\n",
    "        parse=morph.parse(word)\n",
    "        return len(parse)\n",
    "    \n",
    "    #make Rank of each words by absolute frequency\n",
    "    j=1\n",
    "    rank={}#rank of each words\n",
    "    for word in Text_sorted.keys():\n",
    "        rank[word]=j\n",
    "        j+=1\n",
    "\n",
    "    #calculate frequency for each words that inversely proportional of rank\n",
    "    #law of Zipf\n",
    "    frequency_ideal={}\n",
    "    for word in rank.keys():\n",
    "        frequency_ideal[word]=0.08/rank[word]#В НКРЯ 0.08\n",
    "\n",
    "    frequency_practical={}\n",
    "    for word in rank.keys():\n",
    "        C=0.08*Text_sorted[word]/get_wordform_len(word,morph)\n",
    "        frequency_practical[word]=C/rank[word]\n",
    "        \n",
    "    return frequency_ideal,frequency_practical"
   ]
  },
  {
   "cell_type": "code",
   "execution_count": 6,
   "id": "60fe8ba3-249e-46cc-9217-1652729eea31",
   "metadata": {},
   "outputs": [],
   "source": [
    "def Draw_frequencies(ideal,practical):\n",
    "    #Draw graph of frequency/rank\n",
    "    plt.title(f'распределение для {len(Text_sorted)} слов')\n",
    "    plt.plot(ideal.values(),label='теорет. распр.') #y-gives frequency\n",
    "    plt.plot(practical.values(),label='прак. распр.')\n",
    "    plt.xlabel('ранг слова')\n",
    "    plt.ylabel('относительная частота')\n",
    "    plt.legend()\n",
    "    plt.show()\n",
    "\n",
    "    #print the highest 10 practical frequenty\n",
    "    key=list(practical.keys())\n",
    "    value=list(practical.values())\n",
    "\n",
    "    if len(key)<10:\n",
    "        p_max=len(key)\n",
    "    else:\n",
    "        p_max=10\n",
    "\n",
    "    print(f'The highest {p_max} ranks and practical frequencies')\n",
    "    for i in range(p_max): \n",
    "        print(key[i],':',value[i])"
   ]
  },
  {
   "cell_type": "code",
   "execution_count": 7,
   "id": "bcbc5915-5479-4787-9f0d-14725a2244b3",
   "metadata": {},
   "outputs": [],
   "source": [
    "def Beta_count(Text_dict):\n",
    "    #параметр β, отражающий соотношение динамичности и статичности текстов коллекции\n",
    "    # #(гл+сущ) + #(гл+нар) + #(деепр+сущ) + #(деепр+нар) )/(#(сущ+сущ) + #(прил+сущ)), \n",
    "    #где # – количество конструкций определённого типа\n",
    "    Dict_for_beta={'VERB+NOUN':0,'VERB+ADVB':0,'GRND+NOUN':0,'GRND+ADVB':0,'NOUN+NOUN':0,'ADJF+NOUN':0}\n",
    "    prev=''\n",
    "    #count parameters required by formular\n",
    "    for word in Text_dict.keys():\n",
    "        if prev=='':\n",
    "            prev=word\n",
    "            continue\n",
    "        if Text_dict[prev]=='VERB':\n",
    "            if Text_dict[word]=='NOUN':\n",
    "                Dict_for_beta['VERB+NOUN']+=1\n",
    "            elif Text_dict[word]=='ADVB':\n",
    "                Dict_for_beta['VERB+ADVB']+=1\n",
    "        elif Text_dict[prev]=='GRND':\n",
    "            if Text_dict[word]=='NOUN':\n",
    "                Dict_for_beta['GRND+NOUN']+=1\n",
    "            elif Text_dict[word]=='ADVB':\n",
    "                Dict_for_beta['GRND+ADVB']+=1\n",
    "        elif Text_dict[prev]=='NOUN':\n",
    "            if Text_dict[word]=='NOUN':\n",
    "                Dict_for_beta['NOUN+NOUN']+=1\n",
    "        elif Text_dict[prev]=='ADJF':\n",
    "            if Text_dict[word]=='NOUN':\n",
    "                Dict_for_beta['ADJF+NOUN']+=1\n",
    "        prev=word\n",
    "\n",
    "    Beta_up=(Dict_for_beta['VERB+NOUN']+Dict_for_beta['VERB+ADVB']+Dict_for_beta['GRND+NOUN']+Dict_for_beta['GRND+ADVB'])\n",
    "    Beta_down=Dict_for_beta['NOUN+NOUN']+Dict_for_beta['ADJF+NOUN']\n",
    "    if Beta_down==0:\n",
    "        Beta='Unknown'\n",
    "    else:\n",
    "        Beta=Beta_up/Beta_down\n",
    "    \n",
    "    return Beta"
   ]
  },
  {
   "cell_type": "code",
   "execution_count": 8,
   "id": "005c1d97-4f3c-4695-9f1c-fc48da718e74",
   "metadata": {},
   "outputs": [],
   "source": [
    "def Style_recognize(Text_dict,Text):\n",
    "    #определение стиля/жанра текста.\n",
    "    Beta=Beta_count(Text_dict)\n",
    "\n",
    "    #counting midium длины предложения\n",
    "    #midium length=length of each sentece / length of all sentences divided by sentence\n",
    "    Sent_tokens=Sent_tokenizing(Text)\n",
    "    Sent_tokenized=[]\n",
    "    for sent in Sent_tokens:\n",
    "        Sent_tokenized.append(Word_tokenizing(sent))\n",
    "\n",
    "    mid_len_sent=0\n",
    "    for sent in Sent_tokenized:\n",
    "        mid_len_sent+=len(sent)\n",
    "    mid_len_sent/=len(Sent_tokens)\n",
    "\n",
    "    #calculating other parameter\n",
    "    Dict_count=dict(Counter(Text_dict.values()))\n",
    "    \n",
    "    #check if needed parameter is not in dictionary\n",
    "    ex=Dict_count.keys()\n",
    "    if 'NPRO' not in ex:\n",
    "        Dict_count['NPRO']=0\n",
    "    if 'PRCL' not in ex:\n",
    "        Dict_count['PRCL']=0\n",
    "    if 'ADJF' not in ex:\n",
    "        Dict_count['ADJF']=0\n",
    "\n",
    "    NPRO=Dict_count['NPRO']/len(Text_sorted) #доля частиц\n",
    "    PRCL=Dict_count['PRCL']/len(Text_sorted) #доля местоимений\n",
    "    ADJF=Dict_count['ADJF']/len(Text_sorted) #доля прилагательных\n",
    "    \n",
    "    #print parameters\n",
    "    print('\\nParameters of Style recognizing')\n",
    "    print('Beta=',Beta)\n",
    "    print(f\"midium length of sentences= {mid_len_sent}\")\n",
    "    print(f\"доля частиц= {NPRO}\\nдоля местоимений= {PRCL}\\nдоля прилагательных= {ADJF}\")\n",
    "\n",
    "    #return\n",
    "    if Beta=='Unknown':\n",
    "        return 'Unknown style'\n",
    "    else:\n",
    "        if mid_len_sent>=18 and Beta<=0.1:\n",
    "            return 'Деловой стиль'\n",
    "        elif NPRO>=0.02 and PRCL>=0.03:\n",
    "            return 'Художественный стиль'\n",
    "        elif 0.1<=ADJF<=0.2 and NPRO<=0.025 and Beta<=0.32:\n",
    "            return 'Научный стиль'\n",
    "        else:\n",
    "            return 'Публицистический стиль'"
   ]
  },
  {
   "cell_type": "code",
   "execution_count": 9,
   "id": "6f84860d-44bc-46ad-876c-5ad372686c7a",
   "metadata": {
    "tags": []
   },
   "outputs": [
    {
     "name": "stdin",
     "output_type": "stream",
     "text": [
      "Please input the file name: text.txt\n"
     ]
    },
    {
     "name": "stdout",
     "output_type": "stream",
     "text": [
      "\n",
      "Parameters of Style recognizing\n",
      "Beta= 0.0\n",
      "midium length of sentences= 22.0\n",
      "доля частиц= 0.041666666666666664\n",
      "доля местоимений= 0.041666666666666664\n",
      "доля прилагательных= 0.3333333333333333\n"
     ]
    }
   ],
   "source": [
    "#make text object from file\n",
    "file_name=input(\"Please input the file name:\")\n",
    "file=open(file_name,'r',encoding='UTF-8')\n",
    "Text=file.read()\n",
    "file.close()\n",
    "\n",
    "Text_sorted,Text_dict,morph=text_preset(Text)\n",
    "ideal,practical=frequency_clac(Text_sorted)\n",
    "style=Style_recognize(Text_dict,Text)"
   ]
  },
  {
   "cell_type": "code",
   "execution_count": 10,
   "id": "e02f3808-922a-4b63-8750-53d051905b38",
   "metadata": {},
   "outputs": [
    {
     "data": {
      "image/png": "iVBORw0KGgoAAAANSUhEUgAAAkAAAAHHCAYAAABXx+fLAAAAOXRFWHRTb2Z0d2FyZQBNYXRwbG90bGliIHZlcnNpb24zLjYuMCwgaHR0cHM6Ly9tYXRwbG90bGliLm9yZy89olMNAAAACXBIWXMAAA9hAAAPYQGoP6dpAACHlUlEQVR4nO3deVhUZfvA8e8M27CDIqsouJKiYC6I5lKimNuL+ZZZby752q/F0ihLK7esLHPLtHy1XFpMs9LMzDJSS8V9y1xyxw0QFZAdZs7vjwOjE7gMzDAo9+e6zsXMOc95zj2AcfesGkVRFIQQQgghqhGtrQMQQgghhKhskgAJIYQQotqRBEgIIYQQ1Y4kQEIIIYSodiQBEkIIIUS1IwmQEEIIIaodSYCEEEIIUe1IAiSEEEKIakcSICGEEEJUO5IACSGEEKLakQRICCHuQjk5OcyZM4du3boREBCAu7s7LVq04OOPP0av19/03i+//BKNRoObm1slRStE5dPIXmBCCHH3OXDgAM2bN6dLly5069YNDw8Pfv75Z1asWMHAgQNZvHhxmfdlZWXRuHFjMjIyjO+FuBtJAiSEEHehtLQ0UlJSaNq0qcn5J598koULF3L06FEaNGhQ6r7Ro0ezcuVKWrVqxcqVKyUBEnct6QIT4h8mTJiARqPh8OHDPPLII3h4eFCzZk1GjBhBXl6eSdmFCxfywAMP4Ovri5OTE02aNOHjjz8us96ffvqJTp064e7ujoeHB61bt2bJkiXG6507d0aj0dzwOHXqlLFsSEgIvXr14pdffiEyMhKdTkeTJk347rvvSj03PT2dkSNHEhwcjJOTEw0aNOC9997DYDCUKrto0aIynx0SElKq7OHDh/n3v/9NjRo10Ol0tGrVilWrVpX52W/02RYtWmRSbtu2bXTv3h1PT09cXFzo1KkTmzdvNilT8vNJS0szOb9z585SdQ4ePLhU7GfOnMHZ2bnU9xTUn1GHDh1wdXXF3d2dnj178tdff5X5mcoyePDgMj/n4MGDS5XdsGHDbX2vT5w4wcMPP0xgYCBardZYLjw8/Kax+Pj4lEp+APr27QvAoUOHSl07evQoM2bMYPr06djb29/25waM/15q1aqFs7MzjRs35vXXXy9VLiQkpMzPvWHDBpNyH330EU2bNsXJyYnAwECee+450tPTTcr88/fKx8eHnj17cuDAAbNiF9WTeb/hQlQjjzzyCCEhIUyePJmtW7cya9Ysrly5wmeffWYs8/HHH9O0aVP69OmDvb09P/zwA88++ywGg4HnnnvOWG7RokU8+eSTNG3alDFjxuDl5cWePXtYu3Ytjz32mLFc7dq1mTx5skkca9as4auvvioV39GjR+nfvz9PP/00gwYNYuHChTz88MOsXbuWrl27Auo4kE6dOnHu3Dn+7//+jzp16rBlyxbGjBnDhQsXmDlzZpmf/c033yQ0NBSAadOmceXKFZPrf/31F+3btycoKIjRo0fj6urK119/TVxcHN9++63xj+z1wsLCjH8Q09LSePHFF02u//bbbzz44IO0bNmS8ePHo9VqjQnmH3/8QZs2bcqM1Vzjxo0rlcgCfP755wwaNIjY2Fjee+89cnJy+Pjjj7nvvvvYs2dPmUlgWZycnPjkk0+M7//73//etPxrr73GPffcA8C8efNISkoyXtPr9fTp04fTp08zcuRIGjVqhEaj4e23376tWMqSnJwMqAnSP40cOZL777+fHj168PXXX992nfv376dDhw44ODjw1FNPERISwvHjx/nhhx/KjLVDhw489dRTgJqIvfPOOybXJ0yYwMSJE4mJieGZZ57hyJEjfPzxx+zYsYPNmzfj4OBgLFvye6UoCsePH2f69On06NHD5PsoRJkUIYSJ8ePHK4DSp08fk/PPPvusAij79u0znsvJySl1f2xsrFKvXj3j+/T0dMXd3V2JiopScnNzTcoaDAbj606dOilNmzYtVd/777+vAMrJkyeN5+rWrasAyrfffms8l5GRoQQEBCgtWrQwnps0aZLi6uqq/P333yZ1jh49WrGzs1OSkpJMzs+bN08BlJ07dxrP9ezZU6lbt65JuS5duijNmjVT8vLyTD5Lu3btlIYNG5b6DO3bt1fuv/9+4/uTJ08qgLJw4ULjvQ0bNlRiY2NNvic5OTlKaGio0rVrV+O5kp/PxYsXTZ6xY8cOkzoVRVEGDRpkEvuBAwcUrVarPPjggybf06tXrypeXl7KsGHDTOpMTk5WPD09S52/kccee0xxc3MzOefq6qoMGjSoVNl169YpgLJx48YbxnvkyBEFUCZPnmxy741+V24lPz9fadKkiRIaGqoUFhaaXFu9erVib2+v/PXXX8ZYXF1db6vejh07Ku7u7srp06dNzl//sywRFBSkDBkyxPh+/fr1CqCsX79eURRFSU1NVRwdHZVu3boper3eWG727NkKoCxYsMB4rlOnTkqnTp1M6n/ttdcUQElNTb2t2EX1JV1gQtzA9S04AM8//zygtsiUcHZ2Nr7OyMggLS2NTp06ceLECeMg0nXr1nH16lVGjx6NTqczqVOj0ZQ7vsDAQJOWFg8PDwYOHMiePXuM/5e/fPlyOnTogLe3N2lpacYjJiYGvV7P77//blJnScvIP+O83uXLl/ntt9945JFHuHr1qrHOS5cuERsby9GjRzl37pzJPQUFBTg5Od2wzr1793L06FEee+wxLl26ZKwzOzubLl268Pvvv5fqsrt8+bLJZyr5ft/MmDFjuPfee3n44YdNzq9bt4709HQGDBhgUqednR1RUVGsX7/+lnWD+v272ffuegUFBQA3/b5cvXoVgJo1a95WnbcyfPhwDh48yOzZs026uAoKCnjxxRd5+umnadKkiVl1Xrx4kd9//50nn3ySOnXqmFwr6/f7Vr8Lv/76KwUFBYwcORKt9tqfqGHDhuHh4cGPP/5oUr6wsJC0tDQuXrxIYmIiK1asoHnz5mW2cAlxPekCE+IGGjZsaPK+fv36aLVak3EjmzdvZvz48SQmJpKTk2NSPiMjA09PT44fPw5wyzEb5mrQoEGpPzCNGjUC4NSpU/j7+3P06FH2799PrVq1yqwjNTXV5H3JuBpPT88bPvfYsWMoisLYsWMZO3bsDesNCgoyvk9PT6du3bo3rPPo0aMADBo06IZlMjIy8Pb2Nr5v3LjxDcuWZdOmTfzwww8kJCSU6h4pef4DDzxQ5r0eHh639Yy0tLSbfu+uVzKe5WZTzRs3boy3tzfTpk2jSZMmxi6wwsLC23rG9d5//33mz5/PpEmT6NGjh8m1GTNmkJaWxsSJE82u98SJE8Dt/35nZGTc9DOfPn0aKP3zdXR0pF69esbrJbZs2WLy+92wYUNWrlxZof+5ENWDJEBC3KZ//gf1+PHjdOnShbCwMKZPn05wcDCOjo6sWbOGGTNmlDnIuLIZDAa6du3KK6+8Uub1koSpxKlTp3BwcCAwMPCmdQK8/PLLxMbGllnmn7OLkpOTb1j2+jrff/99IiMjyyzzzz+a3377rUli8vfff5dqtbveq6++SmxsLA888ECpwdclz//888/x9/cvde/tDgg+depUqcT5Rkpa6cp6Xgk3NzeWLVvGk08+yX333WdyrawBzjeyaNEiXn31VZ5++mneeOMNk2sZGRm89dZbPPvss2RmZpKZmQmo098VReHUqVO4uLjg6+t728+7kcuXL1NQUHDTz2yu5s2bM23aNEBtjZo1axadO3dm9+7dFn2OuPtIAiTEDRw9etQ4EBjUlg+DwWAcDPvDDz+Qn5/PqlWrTJr+/9ldUr9+fUBdl6WsacflVdISc31i9vfffwMYY6xfvz5ZWVnExMTcVp07d+7k3nvvNel6+Kd69eoB4ODgcFv1nj17lqtXrxoH+pal5Hvk4eFx27F27NjRpJvDy8vrhmVXrlxJYmIiu3fvvunzfX19b/v5/3Tx4kWSkpIYMGDAbZU/ePAgtWrVumX3VteuXZkyZQqPP/44c+fOpV69erz00ku3XMywxPfff89///tfHnroIebMmVPq+pUrV8jKymLKlClMmTKl1PXQ0FD+9a9/sXLlyjLrL/l9uJ2ZVwcPHgS46e9CSUvhkSNHjHWD2nV28uTJUj8fb29vk3OdO3cmMDCQhQsXMmbMmFvGJKovGQMkxA3884/Fhx9+CMCDDz4IgJ2dHQDKdUtpZWRksHDhQpP7unXrhru7O5MnTy41+0ipwDJc58+fZ8WKFcb3mZmZfPbZZ0RGRhr/z/eRRx4hMTGRn3/+udT96enpFBUVGd8fPHiQgwcP8q9//eumz/X19aVz587873//48KFC6WuX7x40eT90qVLgRt3LwG0bNmS+vXrM3Xq1DLXnflnnebQ6/W89tprPPbYYzdsXYqNjcXDw4N33nmnzO6l23n+8uXLAW75/QN1bM+aNWtu+j0pcebMGZ599lleeOEFnnrqKWJiYky6Am/m999/59FHH6Vjx458+eWXZSa2vr6+rFixotRx//33o9PpWLFixU0TiVq1atGxY0cWLFhQqmvxn7/fS5cuxdHRsVRr1vViYmJwdHRk1qxZJvd/+umnZGRk0LNnz5t+5tzcXADy8/NvWk4IaQES4gZOnjxJnz596N69O4mJiXzxxRc89thjREREAGpi4+joSO/evfm///s/srKymD9/Pr6+viaJgYeHBzNmzOC///0vrVu35rHHHsPb25t9+/aRk5NzwxV5b6VRo0YMHTqUHTt24Ofnx4IFC0hJSTFJwEaNGsWqVavo1asXgwcPpmXLlmRnZ/Pnn3/yzTffcOrUKXx8fPj55595+eWXAXVg9xdffGGs49y5c2RnZ/PFF1/wn//8B1CTw/vuu49mzZoxbNgw6tWrR0pKComJiZw9e5Z9+/aRkpLC+PHj+eSTT3j00UcJCwu74WfRarV88sknPPjggzRt2pQhQ4YQFBTEuXPnWL9+PR4eHvzwww/l+j6dPXvW2DV5Ix4eHnz88cc88cQT3HvvvTz66KPUqlWLpKQkfvzxR9q3b8/s2bNveP+cOXN44403qFWrFsePHzeO+wIoKirixIkTrFu3jq5du/L1118zceJErly5wujRo28au8Fg4IknnqB27dq8++67Zn3u06dP06dPHzQaDf/+97+NCVqJ5s2b07x5c1xcXIiLiyt1/8qVK9m+fXuZ1/5p1qxZ3Hfffdx777089dRThIaGcurUKX788UfjAPfx48fz1VdfMXr06JuOqapVqxZjxoxh4sSJdO/enT59+nDkyBE++ugjWrdubfwdLJGSkmL8fU1LS+N///sf9vb29OrV69bfJFG92XAGmhBVUsk064MHDyr//ve/FXd3d8Xb21sZPnx4qWnsq1atUpo3b67odDolJCREee+995QFCxaUmrZeUrZdu3aKs7Oz4uHhobRp00b56quvjNfNnQbfs2dP5eeff1aaN2+uODk5KWFhYcry5ctL3X/16lVlzJgxSoMGDRRHR0fFx8dHadeunTJ16lSloKDA+Gzglsf1jh8/rgwcOFDx9/dXHBwclKCgIKVXr17KN998oyiKomzevFlp0KCBMmHCBCU/P9/k3n9Ogy+xZ88e5aGHHlJq1qypODk5KXXr1lUeeeQRJSEhodTP53anwQPKiBEjTMouXLiwzJ/R+vXrldjYWMXT01PR6XRK/fr1lcGDB5ssC1CW2/nelUzX7tu3r/Lggw8q27ZtK1XPP6fBv/POO4qTk5PJ0guKcnvT4Euml9/oGD9+/E3vN2cavKKoSwz07dtX8fLyUnQ6ndK4cWNl7NixiqIoyldffaWEh4crH3zwQamp8f+cBl9i9uzZSlhYmOLg4KD4+fkpzzzzjHLlyhWTMv/8vfXy8lLat2+vrFmz5rbjFtWXbIUhxD+ULMJ28eLFKjuVNiQkhPDwcFavXm2R+jp37kznzp2ZMGFCmddPnTpFaGhohbrs7mYajYb169fTuXPnMq8vWrSIRYsWlVrtWAhhOzIGSAghhBDVjowBEkLQtWvXm87McXNz4/HHH6/EiO4sjz/+OH5+fje8Xr9+feP2JEKIqkESICFEmZtWXs/Hx8dkYLQwdavvTYcOHejQoUMlRSOEuB0yBkgIIYQQ1Y6MARJCCCFEtSMJkBBCCCGqHRkDVAaDwcD58+dxd3eXDfWEEEKIO4SiKFy9epXAwMCbbukDkgCV6fz58wQHB9s6DCGEEEKUw5kzZ6hdu/ZNy0gCVAZ3d3dA/QbebMl2IYQQQlQdmZmZBAcHG/+O34wkQGUo6fby8PCQBEgIIYS4w9zO8BUZBC2EEEKIakcSICGEEEJUO5IACSGEEKLakTFAQgghLEKv11NYWGjrMMRdzMHBATs7O4vUJQmQEEKIClEUheTkZNLT020diqgGvLy88Pf3r/A6fZIACSGEqJCS5MfX1xcXFxdZQFZYhaIo5OTkkJqaCkBAQECF6pMESAghRLnp9Xpj8lOzZk1bhyPucs7OzgCkpqbi6+tboe4wGQQthBCi3ErG/Li4uNg4ElFdlPyuVXS8mSRAQgghKky6vURlsdTvmiRAQgghhKh2bJ4AzZkzh5CQEHQ6HVFRUWzfvv2m5ZcvX05YWBg6nY5mzZqxZs0ak+tZWVkMHz6c2rVr4+zsTJMmTZg7d641P4IQQggh7jA2TYCWLVtGfHw848ePZ/fu3URERBAbG2sc4f1PW7ZsYcCAAQwdOpQ9e/YQFxdHXFwcBw4cMJaJj49n7dq1fPHFFxw6dIiRI0cyfPhwVq1aVVkfSwghhBBVnE0ToOnTpzNs2DCGDBlibKlxcXFhwYIFZZb/4IMP6N69O6NGjeKee+5h0qRJ3HvvvcyePdtYZsuWLQwaNIjOnTsTEhLCU089RURExC1blipDod7A2Ss5JGfk2ToUIYQQolqzWQJUUFDArl27iImJuRaMVktMTAyJiYll3pOYmGhSHiA2NtakfLt27Vi1ahXnzp1DURTWr1/P33//Tbdu3W4YS35+PpmZmSaHNUxf9zf3vbeeuRuPW6V+IYQQt2fw4MFoNJoyj8GDBwNgMBiYPHkyoaGhODs7ExERwTfffGNSz8aNG2nTpg1OTk4EBAQwevRoioqKjNc7d+7M8OHDGT58OJ6envj4+DB27FgURTGWyc/P5+WXXyYoKAhXV1eioqLYsGEDABs2bLhhnOYMBh48eDBxcXFMnDiRWrVq4eHhwdNPP01BQYGxzNq1a7nvvvvw8vKiZs2a9OrVi+PHTf9enT17lgEDBlCjRg1cXV1p1aoV27ZtA2DChAk3jLNkkcxFixbh5eXFypUradiwITqdjtjYWM6cOXPbn8VSbLYOUFpaGnq9Hj8/P5Pzfn5+HD58uMx7kpOTyyyfnJxsfP/hhx/y1FNPUbt2bezt7dFqtcyfP5+OHTveMJbJkyczceLECnya2xPoqQPgXHqu1Z8lhBC2oigKuYV6mzzb2cHuthKDDz74gHfffReAESNGGM/BtbVmJk+ezBdffMHcuXNp2LAhv//+O//5z3+oVasWnTp14ty5c/To0YPBgwfz2WefcfjwYYYNG4ZOp2PChAnGZy1evJihQ4eyfft2du7cyVNPPUWdOnUYNmwYAMOHD+fgwYMsXbqUwMBAVqxYQffu3fnzzz9p164dFy5cANQejn79+hnfmyshIQGdTseGDRs4deoUQ4YMoWbNmrz99tsAZGdnEx8fT/PmzcnKymLcuHH07duXvXv3otVqycrKolOnTgQFBbFq1Sr8/f3ZvXs3BoPB+IymTZvy66+/Gt+XxHy9nJwc3n77bT777DMcHR159tlnefTRR9m8eXO5Pld53XULIX744Yds3bqVVatWUbduXX7//Xeee+45AgMDS7UelRgzZgzx8fHG95mZmQQHB1s8tkAv9R/VhQxJgIQQd6/cQj1Nxv1sk2cffDMWF8db/2nz9PTE09MTuJbw+Pv7G6/n5+fzzjvv8OuvvxIdHQ1AvXr12LRpE//73//o1KkTH330EcHBwcyePRuNRkNYWBjnz5/n1VdfZdy4cWi1aidLcHAwM2bMQKPR0LhxY/78809mzJjBsGHDSEpKYuHChSQlJREYGAjAyy+/zNq1a1m4cCHvvPOOMa4aNWqUitMcjo6OLFiwABcXF5o2bcqbb77JqFGjmDRpElqttlSismDBAmrVqsXBgwcJDw9nyZIlXLx4kR07dhhjadCggck99vb2JvGVlLteYWEhs2fPJioqClATxHvuuYft27fTpk2bcn228rBZAuTj44OdnR0pKSkm51NSUm74w/X3979p+dzcXF577TVWrFhBz549AWjevDl79+5l6tSpN0yAnJyccHJyquhHuqWSBOh8uowBEkKIquzYsWPk5OTQtWtXk/MFBQW0aNECgEOHDhEdHW3S4tS+fXuysrI4e/YsderUAaBt27YmZaKjo5k2bRp6vZ4///wTvV5Po0aNTJ6Tn59v8ZW1IyIiTBasjI6OJisrizNnzlC3bl2OHj3KuHHj2LZtG2lpacaWnaSkJMLDw9m7dy8tWrQoM6kxh729Pa1btza+DwsLw8vLi0OHDlWPBMjR0ZGWLVuSkJBAXFwcoPa3JiQkMHz48DLviY6OJiEhgZEjRxrPrVu3zpidFxYWUlhYaMy6S9jZ2Zk00dlKoKeaAF3OLiC3QI+zo2V2tBVCiKrE2cGOg2/G2uzZlpCVlQXAjz/+SFBQkMk1S/4Pc1ZWFnZ2duzatavUtg5ubm4We87t6N27N3Xr1mX+/PkEBgZiMBgIDw83jhMqaSm7W9i0Cyw+Pp5BgwbRqlUr2rRpw8yZM8nOzmbIkCEADBw4kKCgICZPngyo/bSdOnVi2rRp9OzZk6VLl7Jz507mzZsHgIeHB506dWLUqFE4OztTt25dNm7cyGeffcb06dNt9jlLeDjb4+poR3aBngsZudSrVbm/3EIIURk0Gs1tdUNVZU2aNMHJyYmkpCQ6depUZpl77rmHb7/9FkVRjC08mzdvxt3dndq1axvLlQwSLrF161YaNmyInZ0dLVq0QK/Xk5qaSocOHaz3gYB9+/aRm5trTGS2bt2Km5sbwcHBXLp0iSNHjjB//nxjHJs2bTK5v3nz5nzyySdcvny5Qq1ARUVF7Ny509jac+TIEdLT07nnnnvKXWd52HQafP/+/Zk6dSrjxo0jMjKSvXv3snbtWuNA56SkJJPBXu3atWPJkiXMmzfPOBp/5cqVhIeHG8ssXbqU1q1b8/jjj9OkSRPeffdd3n77bZ5++ulK/3z/pNFoCJBuMCGEqPLc3d15+eWXefHFF1m8eDHHjx9n9+7dfPjhhyxevBiAZ599ljNnzvD8889z+PBhvv/+e8aPH098fLxJT0RSUhLx8fEcOXKEr776ig8//NA48LpRo0Y8/vjjDBw4kO+++46TJ0+yfft2Jk+ezI8//nhbsZ47d46wsLBbLvdSUFDA0KFDOXjwIGvWrGH8+PEMHz4crVaLt7c3NWvWZN68eRw7dozffvvNZGwswIABA/D39ycuLo7Nmzdz4sQJvv322xvO3L4RBwcHnn/+ebZt28auXbsYPHgwbdu2NSZE27dvJywsjHPnzplVr7lsnqKXTA8sS8k0wOs9/PDDPPzwwzesz9/fn4ULF1oqPIsL9HLmWGoW52UgtBBCVGmTJk2iVq1aTJ48mRMnTuDl5cW9997La6+9BkBQUBBr1qxh1KhRREREUKNGDYYOHcobb7xhUs/AgQPJzc2lTZs22NnZMWLECJ566inj9YULF/LWW2/x0ksvce7cOXx8fGjbti29evW6rTgLCws5cuQIOTk5Ny3XpUsXGjZsSMeOHcnPz2fAgAHG2WparZalS5fywgsvEB4eTuPGjZk1axadO3c23u/o6Mgvv/zCSy+9RI8ePSgqKqJJkybMmTPntuIs4eLiwquvvspjjz3GuXPn6NChA59++qnxek5ODkeOHKnwZqe3olGuX4xAAOosME9PTzIyMvDw8LBo3aO/3c/SHWcYGdOQkTGNbn2DEEJUYXl5eZw8eZLQ0FB0Op2tw6lyOnfuTGRkJDNnzrRpHIMHDyY9PZ2VK1faNI5FixYxcuRI47pA5XGz3zlz/n7bfC+w6sY4FV66wIQQQgibkQSokhmnwksXmBBCCGEzNh8DVN3IatBCCFF9lDWW1RYWLVpk6xAAtSuuZKsRW5MWoEp2fReYDL8SQgghbEMSoErmX9wClFuoJz3HuiPchRBCCFE2SYAqmc7BDh83R0DGAQkhhBC2IgmQDQR4ymKIQgghhC1JAmQDgV5qN5jsCi+EEELYhiRANlAyEFpmggkhhBC2IQmQDQRKF5gQQghhU5IA2cC1qfDSAiSEEELYgiRANhBQPAbovCRAQgghhE1IAmQDQcUtQClX8ynSG2wcjRBCVE+dO3dGo9GUOiIjI41lBg8eTFxcHBMnTqRWrVp4eHjw9NNPU1BQYCyzdu1a7rvvPry8vKhZsya9evXi+PHjxuunTp1Co9Gwd+9eAPLz84mJiSEmJob8/PzbjjckJIRJkyYxYMAAXF1dCQoKKrUT+/Tp02nWrBmurq4EBwfz7LPPkpWVZVJm8+bNdO7cGRcXF7y9vYmNjeXKlSsW/Z7cCSQBsgEfNyfstRr0BoXUq7f/yy+EEHcERYGCbNscZq6wP2zYMC5cuGA8XnrppVJlEhISOHToEBs2bOCrr77iu+++Y+LEicbr2dnZxMfHs3PnThISEtBqtfTt2xeDofT/4Or1eh599FGysrJYuXIlTk5OZsX7/vvvExERwZ49exg9ejQjRoxg3bp1xutarZZZs2bx119/sXjxYn777TdeeeUV4/W9e/fSpUsXmjRpQmJiIps2baJ3797o9XqLfk/uBLIXmA3YaTX4e+o4eyWXCxm5xjFBQghxVyjMgXcCbfPs186Do+ttF3dxccHf39/43s3NrVQZR0dHFixYgIuLC02bNuXNN99k1KhRTJo0Ca1WS79+/UzKL1iwgFq1anHw4EHCw8ON5xVFYciQIRw7doyNGzeW+axbad++PaNHjwagUaNGbN68mRkzZtC1a1cARo4caSwbEhLCW2+9xdNPP81HH30EwJQpU2jVqpXxPUDTpk0t/j25E9wZUd6Frk2Fl5lgQghRlUVERODi4mJ8Hx0dTVZWFmfOnAHg6NGjDBgwgHr16uHh4UFISAgASUlJJvWMGjWKzz//nNatW1OjRo1yxRIdHV3q/aFDh4zvf/31V7p06UJQUBDu7u488cQTXLp0iZycHOBaC1BF3ep7cieQFiAbKdkVXgZCCyHuOg4uakuMrZ5dyXr37k3dunWZP38+gYGBGAwGwsPDS42JOXToED/99BMPPfQQ/fv3JzY21qJxnDp1il69evHMM8/w9ttvU6NGDTZt2sTQoUMpKCjAxcUFZ2fpcSghCZCNyFR4IcRdS6Mxqxuqqtu3bx+5ubnG5GHr1q24ubkRHBzMpUuXOHLkCPPnz6dDhw4AbNq0qcx6Pv/8cx544AEmTZrEsGHDOHDgAB4eHmbFsnXr1lLv77nnHgB27dqFwWBg2rRpxm6or7/+2qR88+bNSUhIqPB4nZt9T+4U0gVmIwHSBSaEEHeEgoIChg4dysGDB1mzZg3jx49n+PDhaLVavL29qVmzJvPmzePYsWP89ttvxMfHl1lPSbfXiy++SHBwsEm5FStWEBYWdstYNm/ezJQpU/j777+ZM2cOy5cvZ8SIEQA0aNCAwsJCPvzwQ06cOMHnn3/O3LlzTe4fM2YMO3bs4Nlnn2X//v0cPnyYjz/+mLS0NIt9TwBmz55tka42a5IEyEaCZD8wIYS4I3Tp0oWGDRvSsWNH+vfvT58+fZgwYQKgzrpaunQpu3btIjw8nBdffJH333//pvVptVoWLlzIkiVL+OWXXwDIyMjgyJEjt4zlpZdeYufOnbRo0YK33nqL6dOnG7vSIiIimD59Ou+99x7h4eF8+eWXTJ482eT+Ro0a8csvv7Bv3z7atGlDdHQ033//Pfb25nUI3ex7ApCWlmayFEBVpFEUM+cMVgOZmZl4enqSkZFhdvPk7Tp0IZMHP/gDbxcH9ozrZpVnCCGEteXl5XHy5ElCQ0PR6XS2DsfiBg8eTHp6OitXrrR1KISEhDBy5EiTmV62YOvvyc1+58z5+y0tQDZSMgboSk4huQX6W5QWQgghhCVJAmQjHjp73JzUJsfz0g0mhBBCVCqZBWYjGo2GAE8dR1OzOJ+eS/1a5i+IJYQQwroWLVpk6xCMTp06ZesQgKr1PakIaQGyoWtT4WUmmBBCCFGZJAGyocDimWDnZC0gIcQdTubTiMpiqd81SYBsKNCzuAVIxgAJIe5QDg4OAMatFoSwtpLftZLfvfKSMUA2VLIY4nnpAhNC3KHs7Ozw8vIiNTUVUDfS1Gg0No5K3I0URSEnJ4fU1FS8vLyws7OrUH2SANlQSReYzAITQtzJSnYOL0mChLAmLy8vk93qy0sSIBsKMrYA5aIoivxfkxDijqTRaAgICMDX15fCwkJbhyPuYg4ODhVu+SlRJRKgOXPm8P7775OcnExERAQffvghbdq0uWH55cuXM3bsWE6dOkXDhg1577336NGjh/H6jRKJKVOmMGrUKIvHX17+xTvC5xUauJJTSA1XRxtHJIQQ5WdnZ2exP05CWJvNB0EvW7aM+Ph4xo8fz+7du4mIiCA2NvaGTalbtmxhwIABDB06lD179hAXF0dcXBwHDhwwlrlw4YLJsWDBAjQaDf369ausj3VbnOzt8HFzAtRWICGEEEJUDpvvBRYVFUXr1q2ZPXs2AAaDgeDgYJ5//nlGjx5dqnz//v3Jzs5m9erVxnNt27YlMjKy1K63JeLi4rh69SoJCQm3FVNl7AVWos/sTew/m8G8J1rSrWnF+zSFEEKI6uqO2QusoKCAXbt2ERMTYzyn1WqJiYkhMTGxzHsSExNNygPExsbesHxKSgo//vgjQ4cOvWEc+fn5ZGZmmhyV5dpUeJkJJoQQQlQWmyZAaWlp6PV6/Pz8TM77+fmRnJxc5j3JyclmlV+8eDHu7u489NBDN4xj8uTJeHp6Go/g4GAzP0n5BZTMBJMuMCGEEKLS2HwMkLUtWLCAxx9/HJ1Od8MyY8aMISMjw3icOXOm0uIzzgSTFiAhhBCi0th0FpiPjw92dnakpKSYnE9JSbnhHH9/f//bLv/HH39w5MgRli1bdtM4nJyccHJyMjN6ywi8biq8EEIIISqHTVuAHB0dadmypcngZIPBQEJCAtHR0WXeEx0dXWow87p168os/+mnn9KyZUsiIiIsG7gFBRRPhb8gCZAQQghRaWy+DlB8fDyDBg2iVatWtGnThpkzZ5Kdnc2QIUMAGDhwIEFBQUyePBmAESNG0KlTJ6ZNm0bPnj1ZunQpO3fuZN68eSb1ZmZmsnz5cqZNm1bpn8kcJV1gyZl5FOkN2Nvd9b2SQgghhM3ZPAHq378/Fy9eZNy4cSQnJxMZGcnatWuNA52TkpLQaq8lBe3atWPJkiW88cYbvPbaazRs2JCVK1cSHh5uUu/SpUtRFIUBAwZU6ucxl4+bEw52Ggr1CilX840JkRBCCCGsx+brAFVFlbkOEECHKb9x5nIu3zwdTauQGlZ/nhBCCHE3umPWARKqgOK1gM7JOCAhhBCiUkgCVAWUdHvJYohCCCFE5ZAEqAoIlMUQhRBCiEolCVAVUNIFdj5dWoCEEEKIyiAJUBUQJIshCiGEEJVKEqAqwLgfWIYkQEIIIURlkASoCijZDiM9p5CcgiIbRyOEEELc/SQBqgI8dA64OalrUso4ICGEEML6JAGqIkpmgl2QbjAhhBDC6iQBqiJkV3ghhBCi8kgCVEXIVHghhBCi8kgCVEUEyWKIQgghRKWRBKiKMLYAyRggIYQQwuokAaoiSsYAXZAuMCGEEMLqJAGqIkpmgZ1Lz0VRFBtHI4QQQtzdJAGqIvw91QQov8jAlZxCG0cjhBBC3N0kAaoinOztqOXuBMhAaCGEEMLaJAGqQgI9ZSaYEEIIURkkAapCZDFEIYQQonJIAlSFXJsKLzPBhBBCCGuSBKgKCZTFEIUQQohKIQlQFRIkXWBCCCFEpZAEqAoJKFkMUbrAhBBCCKuSBKgKKekCS8nMo0hvsHE0QgghxN1LEqAqxMfVCQc7DQYFUq7m2zocIYQQ4q4lCVAVotVqrs0Ek3FAQgghhNVIAlTFBMhiiEIIIYTVSQJUxVybCSYDoYUQQghrkQSoipHVoIUQQgjrkwSoigkongl2IUMSICGEEMJaJAGqYkpagM5JF5gQQghhNTZPgObMmUNISAg6nY6oqCi2b99+0/LLly8nLCwMnU5Hs2bNWLNmTakyhw4dok+fPnh6euLq6krr1q1JSkqy1kewqEDPksUQpQVICCGEsBabJkDLli0jPj6e8ePHs3v3biIiIoiNjSU1NbXM8lu2bGHAgAEMHTqUPXv2EBcXR1xcHAcOHDCWOX78OPfddx9hYWFs2LCB/fv3M3bsWHQ6XWV9rAopWQwxPaeQ7PwiG0cjhBBC3J00iqIotnp4VFQUrVu3Zvbs2QAYDAaCg4N5/vnnGT16dKny/fv3Jzs7m9WrVxvPtW3blsjISObOnQvAo48+ioODA59//nm548rMzMTT05OMjAw8PDzKXU95NRv/M1fzi/g1viMNfN0r/flCCCHEncicv9/lbgE6ePAga9euZdWqVSbH7SooKGDXrl3ExMRcC0arJSYmhsTExDLvSUxMNCkPEBsbayxvMBj48ccfadSoEbGxsfj6+hIVFcXKlSvN/4A2FChT4YUQQgirsjf3hhMnTtC3b1/+/PNPNBoNJQ1IGo0GAL1ef1v1pKWlodfr8fPzMznv5+fH4cOHy7wnOTm5zPLJyckApKamkpWVxbvvvstbb73Fe++9x9q1a3nooYdYv349nTp1KrPe/Px88vOvbT2RmZl5W5/BWgK9dBxJuSpT4YUQQggrMbsFaMSIEYSGhpKamoqLiwt//fUXv//+O61atWLDhg1WCPH2GQzqBqL/+te/ePHFF4mMjGT06NH06tXL2EVWlsmTJ+Pp6Wk8goODKyvkMpXsCn9edoUXQgghrMLsBCgxMZE333wTHx8ftFotWq2W++67j8mTJ/PCCy/cdj0+Pj7Y2dmRkpJicj4lJQV/f/8y7/H3979peR8fH+zt7WnSpIlJmXvuueems8DGjBlDRkaG8Thz5sxtfw5rCJLFEIUQQgirMjsB0uv1uLurA3N9fHw4f/48AHXr1uXIkSO3XY+joyMtW7YkISHBeM5gMJCQkEB0dHSZ90RHR5uUB1i3bp2xvKOjI61bty4Vx99//03dunVvGIuTkxMeHh4mhy2V7AcmU+GFEEII6zB7DFB4eDj79u0jNDSUqKgopkyZgqOjI/PmzaNevXpm1RUfH8+gQYNo1aoVbdq0YebMmWRnZzNkyBAABg4cSFBQEJMnTwbU7rdOnToxbdo0evbsydKlS9m5cyfz5s0z1jlq1Cj69+9Px44duf/++1m7di0//PCDzbvnzCGDoIUQQgjrMjsBeuONN8jOzgbgzTffpFevXnTo0IGaNWuybNkys+rq378/Fy9eZNy4cSQnJxMZGcnatWuNA52TkpLQaq81UrVr144lS5bwxhtv8Nprr9GwYUNWrlxJeHi4sUzfvn2ZO3eusUuucePGfPvtt9x3333mflSbKVkM8Xx6LoqiGAeYCyGEEMIyLLIO0OXLl/H29r5r/lDbeh2g/CI9YWPXoiiw640Yaro5VXoMQgghxJ3GqusAPfnkk1y9etXkXI0aNe6a5KcqcLK3o1Zx0iPdYEIIIYTlmZ0ALV68mNxcGZxrbdemwsv3WgghhLA0sxMgGZNSOYKK9wSTqfBCCCGE5Zk9CBrghRdewNnZucxrCxYsqFBAQhVg3BVeusCEEEIISytXAqQoCjbcQ7VaKJkKf05agIQQQgiLMzsB0mg0zJo1C19fX2vEI4oFliyGKAmQEEIIYXHlGgMkrE8WQxRCCCGsx+wEaNCgQTcc/yMspyQBSrmaR6HeYONohBBCiLuL2QnQwoULjXuBnT17lrNnz1o8KAE1XR1xtNOiKJCSKa1AQgghhCWZnQAZDAbefPNNPD09qVu3LnXr1sXLy4tJkyZhMEhLhaVotRoCjFPhJQESQgghLMnsQdCvv/46n376Ke+++y7t27cHYNOmTUyYMIG8vDzefvttiwdZXQV46jh9KUd2hRdCCCEszOwEaPHixXzyySf06dPHeK558+YEBQXx7LPPSgJkQTIVXgghhLAOs7vALl++TFhYWKnzYWFhXL582SJBCVXJrvAXpAtMCCGEsCizE6CIiAhmz55d6vzs2bOJiIiwSFBCdW0qvLQACSGEEJZkdhfYlClT6NmzJ7/++ivR0dEAJCYmcubMGdasWWPxAKuzwOJB0NIFJoQQQliW2S1AnTp14u+//6Zv376kp6eTnp7OQw89xJEjR+jQoYM1Yqy2SlqAZD8wIYQQwrLMbgFKSkoiODhYBjtXgoDi7TAycgvJzi/C1alcW7cJIYQQ4h/MbgEKDQ3l4sWL1ohF/IO7zgF3nZr0yFR4IYQQwnJkL7AqLsg4FV66wYQQQghLKVefytmzZ8nLK/sPcp06dSoUkDAV4KnjcPJV2RVeCCGEsKByJUCtW7cudU5RFDQaDXq9vsJBiWtkKrwQQghheeVKgLZt20atWrUsHYsoQ6B0gQkhhBAWZ3YCpNFoqFOnDr6+vtaIR/xDyVpAMghaCCGEsBwZBF3FlWyHIV1gQgghhOWYnQCdPHlSur8qkXEMUEaeJJ9CCCGEhZidAP3222988803pc4vX76cxYsXWyQocY2fhw6NBgqKDFzKLrB1OEIIIcRdwewEaPLkyfj4+JQ67+vryzvvvGORoMQ1jvZaark5AbIrvBBCCGEpZidASUlJhIaGljpft25dkpKSLBKUMHVtJpiMAxJCCCEswewEyNfXl/3795c6v2/fPmrWrGmRoISpIFkLSAghhLAosxOgAQMG8MILL7B+/Xr0ej16vZ7ffvuNESNG8Oijj1ojxmqvZFNUmQovhBBCWIbZ6wBNmjSJU6dO0aVLF+zt1dsNBgMDBw6UMUBWcm01aBkDJIQQQliC2QmQo6Mjy5YtY9KkSezbtw9nZ2eaNWtG3bp1rRGf4NpiiOelBUgIIYSwCLO7wEo0atSIhx9+mF69elU4+ZkzZw4hISHodDqioqLYvn37TcsvX76csLAwdDodzZo1Y82aNSbXBw8ejEajMTm6d+9eoRhtSfYDE0IIISyr3LvBr1q1iqSkJAoKTNemmT59ull1LVu2jPj4eObOnUtUVBQzZ84kNjaWI0eOlLndxpYtWxgwYACTJ0+mV69eLFmyhLi4OHbv3k14eLixXPfu3Vm4cKHxvZOTk5mfsuoIKF4NOvVqPoV6Aw525c5bhRBCCAFoFDOXF05ISKBPnz7Uq1ePw4cPEx4ezqlTp1AUhXvvvZfffvvNrACioqJo3bo1s2fPBtTxRMHBwTz//POMHj26VPn+/fuTnZ3N6tWrjefatm1LZGQkc+fOBdQWoPT0dFauXGlWLCUyMzPx9PQkIyMDDw+PctVhSQaDQti4tRQUGfjjlfsJruFi65CEEEKIKsecv99mNyWMGTOGl19+mT///BOdTse3337LmTNn6NSpEw8//LBZdRUUFLBr1y5iYmKuBaTVEhMTQ2JiYpn3JCYmmpQHiI2NLVV+w4YN+Pr60rhxY5555hkuXbp0wzjy8/PJzMw0OaoSrVZDYPFMMOkGE0IIISrO7ATo0KFDDBw4EAB7e3tyc3Nxc3PjzTff5L333jOrrrS0NPR6PX5+fibn/fz8SE5OLvOe5OTkW5bv3r07n332GQkJCbz33nts3LiRBx98EL1eX2adkydPxtPT03gEBweb9TkqQ0k32IUMmQkmhBBCVJTZY4BcXV2N434CAgI4fvw4TZs2BdSEpiq4fj2iZs2a0bx5c+rXr8+GDRvo0qVLqfJjxowhPj7e+D4zM7PKJUGyGrQQQghhOWYnQG3btmXTpk3cc8899OjRg5deeok///yT7777jrZt25pVl4+PD3Z2dqSkpJicT0lJwd/fv8x7/P39zSoPUK9ePXx8fDh27FiZCZCTk1OVHyRdMhVeFkMUQgghKs7sLrDp06cTFRUFwMSJE+nSpQvLli0jJCSETz/91Ky6HB0dadmyJQkJCcZzBoOBhIQEoqOjy7wnOjrapDzAunXrblge1Flrly5dIiAgwKz4qhJZDFEIIYSwHLNbgOrVq2d87erqapx5VV7x8fEMGjSIVq1a0aZNG2bOnEl2djZDhgwBYODAgQQFBTF58mQARowYQadOnZg2bRo9e/Zk6dKl7Ny5k3nz5gGQlZXFxIkT6devH/7+/hw/fpxXXnmFBg0aEBsbW6FYbSlABkELIYQQFlOudYAsqX///ly8eJFx48aRnJxMZGQka9euNQ50TkpKQqu91lDVrl07lixZwhtvvMFrr71Gw4YNWblypXENIDs7O/bv38/ixYtJT08nMDCQbt26MWnSpCrfzXUzsiGqEEIIYTlmrwPk7e2NRqO54fXLly9XOChbq2rrAAFk5RcRPv5nAA5MjMXNyea5qxBCCFGlmPP32+y/ojNnzjS+VhSFZ555hjfffLPMVZuF5bg52eOhsyczr4gL6bk09HO3dUhCCCHEHcvsBGjQoEEm759//nn69etnMjZIWEeglzOZyVc5JwmQEEIIUSEV2lSqqKiIwsJC7OzsLBWPuImSmWCyGKIQQghRMWa3AK1atQqA3NxcvvnmGzw9PalTp47FAxOllawFJAOhhRBCiIoxOwGKi4sDQKfTER4ezooVK246KFpYTsl2GLIWkBBCCFExZidABoPBGnGI2yBT4YUQQgjLqNAYIFG5jKtBy3YYQgghRIVIAnQHKVkN+kJGHgaDWcs3CSGEEOI6kgDdQfw9dWg0UFBk4FJ2ga3DEUIIIe5YkgDdQRzstPi6q9t5yK7wQgghRPlJAnSHCZSB0EIIIUSFmT0LbNasWTe9/sILL5Q7GHFrgZ7O7CFdpsILIYQQFWB2AjRy5Ehq165tXP35zJkzBAQEYG9vj0ajkQTIymQxRCGEEKLiyrWl+M6dO42bn7q7u7Nx40bZC6ySyFR4IYQQouLMHgNkZ2eHXq83vtfr9SQmJlo0KHFjshq0EEIIUXFmJ0C1a9cmISEBgC1btmAwGIiPj+e1115DUWRtGmuT1aCFEEKIijM7Afq///s/Bg8eTFhYGA888ADDhg1j586d/Prrr3Tt2tUaMYrrBBSPAbqYlU9BkWxLIoQQQpSH2WOARo8ezb333su+ffsIDQ2lX79+aDQa/vjjD0aMGGGNGMV1aro64mivpaDIQEpmHsE1XGwdkhBCCHHHKdcg6G7dutGtWzeTc05OTsydO9ciQYkb02g0BHrqOHUph/PpuZIACSGEEOUgCyHegWQmmBBCCFExZrcA6fV6ZsyYwddff01SUhIFBaZ7Ul2+fNliwYmyXVsNWmaCCSGEEOVhdgvQxIkTmT59Ov379ycjI4P4+HgeeughtFotEyZMsEKI4p8CPWUxRCGEEKIizE6AvvzyS+bPn89LL72Evb09AwYM4JNPPmHcuHFs3brVGjGKf5D9wIQQQoiKMTsBSk5OplmzZgC4ubmRkZEBQK9evfjxxx8tG50oU0BxAnQhQ7rAhBBCiPIo10KIFy5cAKB+/fr88ssvAOzYsQMnJyfLRifKFFS8FtA5aQESQgghysXsBKhv377GlaCff/55xo4dS8OGDRk4cCBPPvmkxQMUpZVsh3E1r4ireYU2jkYIIYS485g9C+zdd981vu7fvz916tQhMTGRhg0b0rt3b4sGJ8rm6mSPp7MDGbmFXMjIw13nYOuQhBBCiDtKuRZCvF50dDTR0dGWiEWYIdDLmYzcQs6n59LIz93W4QghhBB3FLMToFWrVt30ep8+fcodjLh9gZ46Dl3IlLWAhBBCiHIwOwGKi4szvtZoNCY7wGs0GvR6vUUCEzcnU+GFEEKI8jN7ELTBYDAeLi4uHDt2zPhekp/KU7IrvGyHIYQQQpivSuwFNmfOHEJCQtDpdERFRbF9+/abll++fDlhYWHodDqaNWvGmjVrblj26aefRqPRMHPmTAtHbVtB0gIkhBBClJvNE6Bly5YRHx/P+PHj2b17NxEREcTGxpKamlpm+S1btjBgwACGDh3Knj17iIuLIy4ujgMHDpQqu2LFCrZu3UpgYKC1P0alK5kKL4shCiGEEOYzOwHKzMw0HhqNhqysLJNz5po+fTrDhg1jyJAhNGnShLlz5+Li4sKCBQvKLP/BBx/QvXt3Ro0axT333MOkSZO49957mT17tkm5c+fO8fzzz/Pll1/i4HD3TRMPLO4Cu5Ceh8Gg3KK0EEIIIa5ndgLk5eWFt7c33t7eZGVl0aJFC7y9vY3nzVFQUMCuXbuIiYm5FpBWS0xMDImJiWXek5iYaFIeIDY21qS8wWDgiSeeYNSoUTRt2tSsmKzq8gnYuRBOb6lwVX4eOrQaKNAbuJRdYIHghBBCiOrD7Flg69evt9jD09LS0Ov1+Pn5mZz38/Pj8OHDZd6TnJxcZvnk5GTj+/feew97e3teeOGF24ojPz+f/Px84/vytGTdll2LYPMH0OIJqNuuQlU52Gnx89BxISOP4xezqOUu25AIIYQQt8vsBKhTp07WiMNidu3axQcffMDu3bvRaDS3dc/kyZOZOHGilSMDgtsCH8CZbRapLrpeTb7bc461B5JpW6+mReoUQgghqoMKDYLW6/VMnz6dgQMH8v7771NUVGTW/T4+PtjZ2ZGSkmJyPiUlBX9//zLv8ff3v2n5P/74g9TUVOrUqYO9vT329vacPn2al156iZCQkDLrHDNmDBkZGcbjzJkzZn2O2xYcpX5N+xtyLle4ut6R6uDu1fsvUKQ3VLg+IYQQorqoUAI0evRoJk2aRF5eHjNmzODFF180635HR0datmxp3FwV1PE7CQkJN9xeIzo62qQ8wLp164zln3jiCfbv38/evXuNR2BgIKNGjeLnn38us04nJyc8PDxMDqtwrQk1G6qvLdAKdF8DH7xdHEjLymfriYonVEIIIUR1UaEE6Pvvv+ezzz7j66+/5ocffuC7774zu474+Hjmz5/P4sWLOXToEM888wzZ2dkMGTIEgIEDBzJmzBhj+REjRrB27VqmTZvG4cOHmTBhAjt37mT48OEA1KxZk/DwcJPDwcEBf39/GjduXJGPaxl12qpfk7ZWuCoHOy0PNgsAYNW+cxWuTwghhKguKpQApaSk0KRJEwCaNm1aqmvqdvTv35+pU6cybtw4IiMj2bt3L2vXrjUOdE5KSuLChQvG8u3atWPJkiXMmzePiIgIvvnmG1auXEl4eHhFPkrlKUmALDQOqE+E2g229kAy+UWyErcQQghxOzTK9Zt5mcnDw4N9+/YRGhpKfn4+Li4ud8V2GJmZmXh6epKRkWH57rC0YzC7Jdg5wZgzYF+x2Vt6g0K7dxNIycxn/sBWdG3id+ubhBBCiLuQOX+/zW4B8vb2pkaNGtSoUcO4DlCNGjUICAgod8DVSs364OID+nw4v7fC1dlpNfRqrrYCrdp3vsL1CSGEENWB2dPgZ8yYcdvTy0UZNBp1NtiRH+HMVqgTVeEq+0QE8ummk/x6MIWcgiJcHM3+sQohhBDVitl/KQcPHmyFMKqZOsUJUNI2aF/x6prX9qRuTRdOX8rh10OpxnFBQgghhCib2QnQ/v37b3q9efPm5Q6m2gi+biC0oqitQhWg0Wjo3TyQ2euPsWrveUmAhBBCiFswOwGKjIxEo9FQ1thpjUZzVwyCtrrASHUQdE4aXDoOPg0qXGWfSDUB2vh3Khk5hXi63H0bwAohhBCWUq7BItu2baNWrVqWjqX6sHeCoHshKVEdB2SBBKiRnzuN/dw5knKVn/9K5pHWwRYIVAghhLg7lWsdoDp16lC3bt0yD3GbSrbFsMCCiCX6RMpsMCGEEOJ2lCsB+vnnn/npp5/4/fffOXbsWJndYeIWLLgidInexdPhtxxPI/VqnsXqFUIIIe425UqABg0aRM+ePencuTONGzfG29ubESNGUFhYaOn47l4lLUCXjkL2JYtUWaemC5HBXhgU+OnPZIvUKYQQQtyNzE6ADAYDBoOB/Px8Ll68yN69e5k2bRrLli1j3Lhx1ojx7uRSA3waqa8ttC0GQO8I6QYTQgghbqXce4E5ODhQs2ZNmjVrxtChQ5k3bx5ffPGFJWO7+5W0Ap2xXDdYr+YBaDSw6/QVzl7JsVi9QgghxN2kQpuhXq9Pnz7s27fPUtVVD3Wi1a9JlmsB8vPQ0Ta0JgCr91+4RWkhhBCieipXAnT8+HHeeOMNBgwYQGpqKgA//fSTya7t4jaUDIQ+vweK8i1WrbEbbK90gwkhhBBlMTsB2rhxI82aNWPbtm189913ZGVlAbBv3z7Gjx9v8QDvajXqWXRj1BIPhvtjr9Vw8EImx1KzLFavEEIIcbcwOwEaPXo0b731FuvWrcPR0dF4/oEHHmDrVsuNZakWNJprrUAWHAfk7epIx0bqQpUyGFoIIYQozewE6M8//6Rv376lzvv6+pKWlmaRoKoVKyyICNA7IgCA1fvOyzpNQgghxD+YnQB5eXmVOdZnz549BAUFWSSoaqXOPzZGtZCuTfxxstdyIi2bv85nWqxeIYQQ4m5gdgL06KOP8uqrr5KcnIxGo8FgMLB582ZefvllBg4caI0Y724BEcUbo16CS8csVq2bkz0x9/gB0g0mhBBC/JPZCdA777xDWFgYwcHBZGVl0aRJEzp27Ei7du144403rBHj3c3eCYJaqq+t2A1mMEg3mBBCCFHC7ATI0dGR+fPnc+LECVavXs0XX3zB4cOH+fzzz7Gzs7NGjHe/OpZfEBGgc2Nf3J3sOZ+Rx66kKxatWwghhLiTmZ0Avfnmm+Tk5BAcHEyPHj145JFHaNiwoTViqz6CSzZGtdyCiAA6Bzu6NfUHZE0gIYQQ4npmJ0ATJ040rv0jLCS4jfr10lHItuxMuj6R6qKIa/68QJHeYNG6hRBCiDuV2QmQTKm2Apca4NNYfW3BjVEB2tWvSQ1XRy5lF7DluGV2nRdCCCHudPbluWnq1Km4ubmVeU12hC+nOlGQdkQdCB3W02LVOthp6dHMny+2JrFq33njAolCCCFEdVauBGjz5s0mq0CX0Gg0kgCVV3Bb2P2ZxVuAAPpEBPHF1iR+PpDMW3Hh6BxksLoQQojqrVwJ0IoVK/D19bV0LNXb9RujFuaBg85iVbeq602Ap44LGXls/PsiscUDo4UQQojqqly7wQsrqFEPXGuBvgAu7LVo1Vqthl7N1TWBZFFEIYQQohwJUKdOncrs/hIVpNFYbV8wULvBABIOpZCdX2Tx+oUQQog7idkJ0Pr16/Hy8rJCKMJkXzALCw/yIKSmC3mFBtYdTLF4/UIIIcSdxOwxQPHx8Te9Pn369HIHU+0ZF0Tcqm6MqtFYrGqNRkOfiEBm/XaMH/adJ66FbFwrhBCi+jI7AZo5cybu7u60bNmy1JpAGgv+wa6WAiLAXge5lyHtKNRqZNHqexcnQL8fvUh6TgFeLtKVKYQQonoyuwts/vz5uLm5YW9vz6xZs1i/fr3x+O2336wRY/Vh7wiB96qvLbwvGEBDP3fC/N0p1Cv8dCDZ4vULIYQQdwqzE6ChQ4dy9OhRoqOjad++PcOGDSMlpWJjSubMmUNISAg6nY6oqCi2b99+0/LLly8nLCwMnU5Hs2bNWLNmjcn1CRMmEBYWhqurK97e3sTExLBtm+XH1VhFHevsC1aiZGuMH2Q2mBBCiGqsXNPgXVxcmDhxIkeOHEGv19OoUSPefPNNcnNzza5r2bJlxMfHM378eHbv3k1ERASxsbGkpqaWWX7Lli0MGDCAoUOHsmfPHuLi4oiLi+PAgQPGMo0aNWL27Nn8+eefbNq0iZCQELp168bFixfL83Erl3EgtOVbgAB6N1cToMQTl0jNzLPKM4QQQoiqTqOYubnXqlWrSp3bs2cPU6dOxdPTk7Nnz5oVQFRUFK1bt2b27NkAGAwGgoODef755xk9enSp8v379yc7O5vVq1cbz7Vt25bIyEjmzp1b5jMyMzPx9PTk119/pUuXLreMqaR8RkYGHh4eZn2eCsu5DFNC1dejjoOrj8Uf8dBHm9mdlM64Xk148r5Qi9cvhBBC2II5f7/NHgQdFxd3w2vZ2dlm1VVQUMCuXbsYM2aM8ZxWqyUmJobExMQy70lMTCw1Ey02NpaVK1fe8Bnz5s3D09OTiIiIMsvk5+eTn59vfJ+ZmWnW57AolxpQKwwuHlanw1twX7ASvSMC2Z2Uzg/7z0sCJIQQoloyuwvMYDDc9DBHWloaer0ePz8/k/N+fn4kJ5c9SDc5Ofm2yq9evRo3Nzd0Oh0zZsxg3bp1+PiU3ZoyefJkPD09jUdwcLBZn8PirLggIkDP5gFoNbAnKZ0zl3Os8gwhhBCiKrtrt8K4//772bt3L1u2bKF79+488sgjNxxXNGbMGDIyMozHmTNnKjnaf6hz3XpAVuDrriO6fk1AtsYQQghRPZmdAL3wwgvMmjWr1PnZs2czcuRIs+ry8fHBzs6u1CyylJQU/P3L3rDT39//tsq7urrSoEED2rZty6effoq9vT2ffvppmXU6OTnh4eFhcthUSQvQhb3qxqhWUDIYWmaDCSGEqI7MToC+/fZb2rdvX+p8u3bt+Oabb8yqy9HRkZYtW5KQkGA8ZzAYSEhIIDo6usx7oqOjTcoDrFu37oblr6/3+nE+VVqNeuDqq26Men6PVR7xYHgADnYaDidf5e+Uq1Z5hhBCCFFVmZ0AXbp0CU9Pz1LnPTw8SEtLMzuA+Ph45s+fz+LFizl06BDPPPMM2dnZDBkyBICBAweaDJIeMWIEa9euZdq0aRw+fJgJEyawc+dOhg8fDqgDsV977TW2bt3K6dOn2bVrF08++STnzp3j4YcfNjs+m9BooE5xK5CVpsN7ujjQqVEtQFqBhBBCVD9mJ0ANGjRg7dq1pc7/9NNP1KtXz+wA+vfvz9SpUxk3bhyRkZHs3buXtWvXGgc6JyUlceHCBWP5du3asWTJEubNm0dERATffPMNK1euJDw8HAA7OzsOHz5Mv379aNSoEb179+bSpUv88ccfNG3a1Oz4bCbYugsigjobDNRxQGauhiCEEELc0cxeB2jBggUMHz6cUaNG8cADDwCQkJDAtGnTmDlzJsOGDbNKoJXJpusAlTi7Ez7pAs414JUTFt0YtUR2fhEt31pHXqGBVcPb07y2l8WfIYQQQlQWq64D9OSTT5Kfn8/bb7/NpEmTAAgJCeHjjz9m4MCB5YtYlObf3KobowK4OtkTc48fq/dfYNXe85IACSGEqDbKNQ3+mWee4ezZs6SkpJCZmcmJEyck+bE0e0cIaqm+Tip7UUhLKOkGW73/AgaDdIMJIYSoHsq9DtDFixc5cuQIe/fuLdfgZ3EbSqbDn7HeOKDOjWvhrrMnOTOP7acuW+05QgghRFVidgKUnZ3Nk08+SUBAAB07dqRjx44EBAQwdOhQcnJkVWGLqlM8td9KCyICONnb0b2puoaSzAYTQghRXZidAMXHx7Nx40Z++OEH0tPTSU9P5/vvv2fjxo289NJL1oix+gpurX69fByyrLeTfUk32Jo/L1CoN287EyGEEOJOVK6FED/99FMefPBB46rJPXr0YP78+WYvhChuwdkbat2jvrZiN1i7+jXxcXPkSk4hm45Jd6YQQoi7n9kJUE5OTqnNSAF8fX2lC8warLwgIoC9nZYezQIAWLnnnNWeI4QQQlQVZidA0dHRjB8/nry8a3tU5ebmMnHixFtuRyHKoRIWRATo2yIIUBdF3HriklWfJYQQQtia2esAffDBB8TGxlK7dm0iIiIA2LdvHzqdjp9//tniAVZ7JS1A5/dAYS44OFvlMS3qeNO/VTDLdp7hpa/3sXZkB9x1DlZ5lhBCCGFrZrcAhYeHc/ToUSZPnkxkZCSRkZG8++67HD169M7aauJO4R2qboxqKLTaxqglxvZuQnANZ86l5zLxh4NWfZYQQghhS2a3AAG4uLjcFVte3BE0GqjTFg6tUqfD121ntUe5Odkz/ZFIHvlfIt/sOkvMPX50D/e32vOEEEIIWzE7AVq1atVNr/fp06fcwYgbKEmArDgTrETrkBr8X8f6zN14nNdW/Mm9db3wdddZ/blCCCFEZTI7AYqLizO+1mg0JruIazQa9Hq9RQIT1ykZCH1mGxgMoC33At635cWuDdn490UOXchkzLd/8smgVmissBmrEEIIYStm/yU1GAzGw8XFhWPHjhnfS/JjJQHNwd4Zcq/ApaNWf5yTvR0z+0fiaKcl4XAqS3ecsfozhRBCiMpk3aYEYRl2DtdtjGq99YCu19jfnVGxjQGYtPogpy9lV8pzhRBCiMogCdCdoo71N0b9p6H3hRIVWoOcAj3xX+9DL7vFCyGEuEuYnQBlZmYaD41GQ1ZWlsk5YSXGBRETK+2RWq2GaY9E4OZkz67TV5i78XilPVsIIYSwJrMTIC8vL7y9vfH29iYrK4sWLVrg7e1tPC+sJLg1oIHLJyArtdIeW9vbhQl91PWdZv76NwfOZVTas4UQQghrMXsW2Pr1660Rh7gVZ2/wvQdSD6rdYPf0rrRH97s3iHUHk/n5rxReXLaXH56/D52DXaU9XwghhLA0sxOg0NBQgoODZVq0LQRHqQlQ0tZKTYA0Gg3v9G3GrtPpHE3NYurPR3ijV5NKe74QQghhaWZ3gYWGhnLx4kVrxCJupc516wFVsppuTkz5dzMAPt18ki3H0yo9BiGEEMJSzE6Arl/4UFSy4JKNUfeqG6NWsgfC/BjQpg6KAi9/vY/MvMJKj0EIIYSwhHJNgz979ixJSUllHsKKvEPAza9SNka9kTd63kPdmi6cz8hjwqq/bBKDEEIIUVHlSoBat25NaGioyRESEkJoaKil4xPX02iutQJV4nT467k62TP9kQi0Gvhu9zl++vOCTeIQQgghKqJcu8Fv27aNWrVqWToWcTuMO8NX/jigEi3r1uCZzvWZs17dMLVlXW98PWTDVCGEEHcOsxMgjUZDnTp18PX1tUY84lbqVO7GqDcyoksjNhy5yF/nM3n12/0sGNxaZgYKIYS4Y8gg6DuNf3NwcIG8dEj722ZhONprmdE/Ekd7LeuPXGTJdhn/JYQQ4s5hdgJ08uRJfHx8rBGLuB3Xb4x6pnI2Rr2RRn7uvFK8Yepbqw9xKk02TBVCCHFnMDsBqlu3LpmZmUybNo3//ve//Pe//2XGjBlkZMgWCZXGOBDaduOASjzZPpToejXJLdTz4td7KdIbbB2SEEIIcUtmJ0A7d+6kfv36zJgxg8uXL3P58mWmT59O/fr12b17tzViFP9kHAdk2xYgUDdMnfpIBO5O9uxJSpcNU4UQQtwRzE6AXnzxRfr06cOpU6f47rvv+O677zh58iS9evVi5MiRVghRlFLbNhuj3kiQlzMT/1WyYepR2TBVCCFElVeuFqBXX30Ve/trE8js7e155ZVX2LlzZ7mCmDNnDiEhIeh0OqKioti+fftNyy9fvpywsDB0Oh3NmjVjzZo1xmuFhYW8+uqrNGvWDFdXVwIDAxk4cCDnz58vV2xVkrOXujEqqPuCVQF9WwTRo5k/RQaFkcv2kleot3VIQgghxA2ZnQB5eHiUueLzmTNncHd3NzuAZcuWER8fz/jx49m9ezcRERHExsaSmlp2y8aWLVsYMGAAQ4cOZc+ePcTFxREXF8eBAwcAyMnJYffu3YwdO5bdu3fz3XffceTIEfr06WN2bFWaDfcFK4tGo+HtuGbUcnfiWGoWU9YesXVIQgghxA1pFDPntb/wwgusWLGCqVOn0q5dOwA2b97MqFGj6NevHzNnzjQrgKioKFq3bs3s2bMBMBgMBAcH8/zzzzN69OhS5fv37092djarV682nmvbti2RkZHMnTu3zGfs2LGDNm3acPr0aerUqXPLmDIzM/H09CQjIwMPDw+zPk+l2bcMVjwFQa1gWIKtozFafySVIQt3APDlf6No30BmDAohhKgc5vz9NrsFaOrUqTz00EMMHDiQkJAQQkJCGDx4MP/+97957733zKqroKCAXbt2ERMTcy0grZaYmBgSE8ve6iExMdGkPEBsbOwNywNkZGSg0Wjw8vIyK74qrU7xTLAL+2yyMeqN3N/Yl8ej6hDAJbZ/9TbpmZm2DkkIIYQoxewEyNHRkQ8++IArV66wd+9e9u7dy+XLl5kxYwZOTk5m1ZWWloZer8fPz8/kvJ+fH8nJyWXek5ycbFb5vLw8Xn31VQYMGHDDbDA/P5/MzEyTo8rzqgvugerGqLsW2ToaE693C2Gp83u8qF/A93Ne5czlHFuHJIQQQpgo9z4KLi4uNGvWjGbNmuHi4mLJmCymsLCQRx55BEVR+Pjjj29YbvLkyXh6ehqP4ODgSoyynDQa6BCvvv51AlysOmNuXH5/m7rKWQC65P3CQ3M2sf9sum2DEkIIIa5jm42kivn4+GBnZ0dKSorJ+ZSUFPz9/cu8x9/f/7bKlyQ/p0+fZt26dTftCxwzZgwZGRnG48yZM+X8RJWs9X+hfhcoyoPvhkFRga0jguPrYZuabCp2Ompr0miUu5v+/9vKL3+V3UonhBBCVDabJkCOjo60bNmShIRrg3gNBgMJCQlER0eXeU90dLRJeYB169aZlC9Jfo4ePcqvv/5KzZo1bxqHk5MTHh4eJscdQaOBf80BnZc6Fuj3KbaNJzcdvn9Ofd1qKJoWjwMw3GsruYV6/u+LXSzcfNJ28QkhhBDFbJoAAcTHxzN//nwWL17MoUOHeOaZZ8jOzmbIkCEADBw4kDFjxhjLjxgxgrVr1zJt2jQOHz7MhAkT2LlzJ8OHDwfU5Off//43O3fu5Msvv0Sv15OcnExycjIFBVWghcTSPAKg1wz19R/T4MwO28WyZhRknoMa9aHbJLj3CQDa5m/hyZZeKApM/OEgE3/4C71BNtUVQghhOzZPgPr378/UqVMZN24ckZGR7N27l7Vr1xoHOiclJXHhwgVj+Xbt2rFkyRLmzZtHREQE33zzDStXriQ8PByAc+fOsWrVKs6ePUtkZCQBAQHGY8uWLTb5jFYX/hA0exgUgzo1vsAGm5Ie+A7+/Bo0Wuj7P3B0hYBI8AtHo89nbJ0DjHkwDICFm0/x9Be7yCkoqvw4hRBCCMqxDlB1cEesA/RPuVfg4/ZqC0yrJ6+1ClWGzPPwUTTkpUPHV+CB169d2zoX1r4K/s3h6T/4cf8FXvx6LwVFBprX9uSTQa3wdddVXqxCCCHuWlZdB0hUUc7eEPeR+nrnAji6rnKeqyjw/XA1+QmIhE6vmF5v/gjYOULyfriwj57NA/hqWBTeLg7sP5tB3zlb+DvlauXEKoQQQhSTBOhuUq8zRD2jvv7+Oci+ZP1n7vgEjieAvQ4emgd2DqbXXWpAWE/19Z4vAGhZtwYrnm1PqI8r59Jz6ffxFrYcS7N+rEIIIUQxSYDuNjHjwacxZKXAjy+qLTTWknYMfhlb/NyJUKtx2eVa/Ef9uv9rKMwDIMTHle+eaUfrEG+u5hUxcMF2vtl11nqxCiGEENeRBOhu4+AMD/0PtPZw8Hs16bAGfZE64LooF0I7QZunbly23v3gUVvtJjt8bQ83b1dHPh8aRe+IQIoMCi8v38f0dX8jw9KEEEJYmyRAd6PAFtCpeCPZNS9DuhUWdvxjGpzbBTpPiPsYtDf5VdLaQfGaQOz53OSSzsGOD/pH8tz99QGYlXCUl77eR36R3vIxCyGEEMUkAbpb3fci1G4N+Zmw8hkwGCxX97ldsLF449se08Az6Nb3RD6mfj2xAa6cNrmk1WoYFRvGuw81w06r4bs95xj46XYycgotF7MQQghxHUmA7lZ29up6PA4ucOoP4/YUFVaQA9/9Hyh6aNoXmv379u7zDlG7ygD2LimzyKNt6rBwcGvcnOzZdvIyfT/eTNIl2UhVCCGE5UkCdDerWR+6vaW+/nUipB6qeJ2/jodLR8HNH3pOV7fjuF0t1JWh2fslGMru4urYqBbfPBNNgKeOExez6fvRZvYkXal43EIIIcR1JAG627V6Ehp0BX0+fPdUxTZMPf4bbJ+nvo6bo05xN8c9vdQxQxln4OTGGxYL8/dg5XPtaRrowaXsAh6dt5W1By7csLwQQghhLkmA7nYaDfxrNjjXUBcj3Phu+erJuQwrn1Vftx4GDWLMr8PBWd2yA2D35zct6ueh4+v/i+aBMF/yiww88+VuPtpwjCK9BccyCSGEqLYkAaoO3P2h90z19aYZkLTN/DrWvAxXL0DNBtD1zfLHUtINdni1mlTdhKuTPfOeaMl/2tZBUWDK2iP0mPUHm47KoolCCCEqRhKg6qLJv6D5o8Ubpv4f5Gfd/r1/fgMHvgWNHfSdB44u5Y8jMBL8m4G+AP5cfsvi9nZaJv0rnHcfaoa3iwN/p2Txn0+3MeyznZy+ZINNX4UQQtwVJAGqTnpMURckvHISfnn91uUBMs7Bj/Hq646joHbLisdR0gq05+bdYCU0Gg2PtqnDhpfvZ0j7EOy0GtYdTKHr9N9596fDZOXLrvJCCCHMIwlQdaLzhL7F0+F3LYK/f755eYNB3VMsL0NdXLHjy5aJo9nDxRuk/gnn9972bZ4uDozv3ZS1IzrQoaEPBXoDczce5/6pG1i+8wwGg6wgLYQQ4vZIAlTdhHaEts+pr78fDtk3GU+z4xM4sV7d6LRvGRudlpdLDQjrpb6+zVag6zX0c+ezJ9vw6aBWhPq4cvFqPqO+2U/cR5vZdfrm44qEEEIIkASoeuoyDmqFQXYqrB5Z9oapF/+GdcUbnXadBLUaWTaGe4u7wf5cDoW5Zt+u0Wjoco8fP4/syOs97sHdyZ79ZzPo93EiL3y1h/Pp5tcphBCi+pAEqDpy0MFD80DrAId+gH1LTa/rC4s3Os1TNzJt/V/LxxDaGTyD1e61Q6tvVfqGHO21DOtYj99e7syjrYPRaGDVvvM8MG0DH/x6lNwC2VNMCCFEaZIAVVcBEdC5ZMPUUZCedO3a7+/D+T2g84K4j26+0Wl5abUQWfYGqeVRy92Jd/s154fh99EmpAZ5hQZm/Po3MdM38sO+87LDvBBCCBOSAFVn7UdCcBQUXIUVxRumnt0Jv09Vr/ecBh6B1nt+i8cBjboq9JVTFqkyPMiTZf/XltmPtSDIy5lz6bk8/9UeHvlfIgfOZVjkGUIIIe58kgBVZ3b20HcuOLjC6U3wx1R1uwxFD+H9bn+j0/LyqgP1br5BanloNBp6NQ/k1/hOvBjTCJ2Dlh2nrtB79iZGf7ufi1fzLfYsIYQQdyZJgKq7GvWg+zvq6/Vvw+Xj4B4IPaZWzvONawLdeIPU8nJ2tGNETEN+e6kz/4oMRFFg6Y4z3D91A/N+P05eoYwPEkKI6koSIAH3DoJG3a+9L89Gp+UV1ksda5R5Fk5ssMojAr2c+eDRFnzzdDTNgjzJyi/inTWHiZ6cwOSfDpF0KccqzxVCCFF1aRQZHVpKZmYmnp6eZGRk4OHhYetwKkdWqrpFRmhHuO/Fyn32mlHqLvNN+8LDi6z6KINB4ZvdZ5m57m/OZ+QB6n6xnRrV4j9Rdbk/zBc7rcaqMQghhLAOc/5+SwJUhmqZANnShX3wv47q6tAvHamU1qcivYHfDqfy+dbT/HHd5qpBXs48FlWHR1oFU8vdyepxCCGEsBxJgCpIEiAbmNsBkvdD9/eg7dOV+uiTadks2Xaa5bvOkp5TCICDnYYHwwP4T9u6tA7xRqORViEhhKjqJAGqIEmAbGD7fFjzMviFw9Ob1H6pSpZXqGf1/gt8sfU0e8+kG8839nPnP23rENciCHedhbYDEUIIYXGSAFWQJEA2kHsFpjYGfT48tUHdfNWG/jybwRdbT/P9vnPkFRoAcHW0I65FEP9pW5d7AuT3QgghqhpJgCpIEiAb+WYoHPgGWg2FXtNtHQ0AGbmFfLvrLF9sO82Ji9nG863qevNEdF26h/vjZG9nwwiFEEKUkASogiQBspHj6+HzOHDyhJePgIOzrSMyUhSFxOOX+GLbaX7+KwW9Qf1nU9PVkUda1ebxFj7U9q9l4yiFEKJ6M+fvt30lxSTErYV2As86kJGkbtLa/BFbR2Sk0Who18CHdg18SMnMY+n2MyzZfpq8zEvEJr6Kx9bzvOQ5iTrNO9O1iR/3BLjLwGkhhKjCpAWoDNICZEMb3oUNk9X1iAb9YOtobqoo+wpZn/TG68qfACQZatGjYDJZuFDb25muTfzo2sSPNiE1sLeTNUeFEMLapAusgiQBsqH0MzCzGaDAC3uhRqitIypb/lX4oh+c2QbONdDbu2B39SyJrjEMzvgv+UUGY1FPZwceCPOlWxM/OjaqhauTNLwKIYQ1mPP32+b/WzpnzhxCQkLQ6XRERUWxffv2m5Zfvnw5YWFh6HQ6mjVrxpo1a0yuf/fdd3Tr1o2aNWui0WjYu3evFaMXFucVDPXvV1/v/dK2sdxIQQ4seVRNfnSeMHAldg8vAI2W6Oxf2f/QFf73REv+3bI2NVwdycgtZMWeczzz5W5aTFrHkIXbWbItidTMPFt/EiGEqLZsmgAtW7aM+Ph4xo8fz+7du4mIiCA2NpbU1NQyy2/ZsoUBAwYwdOhQ9uzZQ1xcHHFxcRw4cMBYJjs7m/vuu4/33nuvsj6GsLQW/1G/7l1i8Q1SK6wwD5Y+Bqc3gaM7/GcFBERAnSjoNBoAp7WvEBuQy9SHI9jxegxf/180wzqEElLThYIiA+uPXOS1FX/S5p0E4uZsZs76YxxLvYo0xgohROWxaRdYVFQUrVu3Zvbs2QAYDAaCg4N5/vnnGT16dKny/fv3Jzs7m9WrVxvPtW3blsjISObOnWtS9tSpU4SGhrJnzx4iIyPNiku6wGysKB+mNVbXBnr8W2gYY+uIVEUFsOxxOPoLOLjCE99BnbbXruuLYHEvSEqEoFbw5Fqwu7ZwoqIoHEvN4peDKfxyMIV91y22CBDq42ocN3RvHW/Zk0wIIcx0R3SBFRQUsGvXLmJirv1x02q1xMTEkJiYWOY9iYmJJuUBYmNjb1j+duXn55OZmWlyCBuyd4JmxTPA9nxu21hK6AvhmyFq8mOvg8eWmSY/AHb28NA8dRr/uZ2w0bQVUqPR0NDPnefub8D3z7Vn22tdeLtvOJ0b18LRTsvJtGzm/X6Ch+cmEjnxFwYv3M6c9cfYeeoy+UVVrCVMCCHucDYbjZmWloZer8fPz8/kvJ+fH4cPHy7znuTk5DLLJycnVyiWyZMnM3HixArVISzs3idg+//g8I+QfQlca9ouFn0RfPcUHF6tbtj66BII7VB2Wa860Hummiz9PhXqdYaQ+8os6ueh4/GoujweVZes/CJ+//si6w6m8NvhVDJyC9lw5CIbjlwEwMleS2SwF21Ca9AmtAb31vGWwdRCCFEB8l9QYMyYMcTHxxvfZ2ZmEhwcbMOIBP7N1LE1F/bBn19D22dsE4fBAN8/B399B1oHeORzaNDl5veEPwTHEmDvF2ri9MxmcPa+6S1uTvb0aBZAj2YB6A0Khy5ksuPUZbafvMyOU5dJyypg28nLbDt5GQA7rYbwQA9ah6gJUeuQGni7OlrqUwshxF3PZgmQj48PdnZ2pKSkmJxPSUnB39+/zHv8/f3NKn+7nJyccHJyqlAdwgpaPKEmQLs/h6inK3+DVIMBVo+A/UtBYwcPL4TG3W/v3gffU8cCXT4OP4yAhxffdvx2Wg3hQZ6EB3kypH0oiqJwIi1bTYaKk6Bz6bnsO5vBvrMZfLLpJACN/NyMyVCb0BoEeFadlbSFEKKqsVkC5OjoSMuWLUlISCAuLg5QB0EnJCQwfPjwMu+Jjo4mISGBkSNHGs+tW7eO6OjoSohYVLpmD8Mvb0DqX3B+DwTdW3nPVhT46RXY/RlotNBvPtzT+/bvd3KDfp/Ap13h4PfqWKZ7B5YrFI1GQ/1abtSv5caANnUAOJeey46Tl9le3Ep0LDWLv1PU44utSQAE13CmTUhNWod406y2Jw193XG0t/nKF0IIUSXYtAssPj6eQYMG0apVK9q0acPMmTPJzs5myJAhAAwcOJCgoCAmT54MwIgRI+jUqRPTpk2jZ8+eLF26lJ07dzJv3jxjnZcvXyYpKYnz588DcOTIEUBtPapoS5GoZM5eatLx53I1gaisBEhR1MRrx3xAA//6CML7mV9P0L3wwFj4dTz89CrUiQafhhYJMcjLmaAWQcS1CALgUlY+O05dMXaZ/XU+gzOXczlz+Szf7j4LgKOdlkb+bjQN8KRpkAdNAz24J8ADF0fpCRdCVD82Xwl69uzZvP/++yQnJxMZGcmsWbOIiooCoHPnzoSEhLBo0SJj+eXLl/PGG29w6tQpGjZsyJQpU+jRo4fx+qJFi4wJ1PXGjx/PhAkTbismmQZfhZzYCJ/1AScPeOkIOLpY/5kJk+CPqerr3h9Ay8Hlr8tggM//BSd/B//m8N9f1VluVnY1r5Bdp6+w49Rldp2+wl/nM7maV1SqnEYD9XxcaRroSdNAD8KD1K9eLjKeSAhx55GtMCpIEqAqxGCAWZGQfhr6zoOI/tZ93sYpsP5t9fWD70PUUxWvM/M8fNweci9Du+eh21sVr9NMiqJw5nIuf53P4K/zmcavqVfzyywf5OVM00APY2LUNMgDfw+dbPAqhKjSJAGqIEmAqpiSpCQgAnrOgMAWoLXCWJZNM9XuKlCTlHbPW67uwz+qK0gDPLEC6j9guborIPVqHn+dz+RgcVJ04FwmSZdzyizr42LPM55bCPDUkdXkcer7udGgljueLg5llhdCiMomCVAFSQJUxWSchQ8iwFDchePiAw1ioGFXNZFwqVHxZ2ydC2tfVV8/8AZ0HFXxOv9pdTzs/BTc/OCZLeDqY/lnWEBmXmFxQpTJX+fUlqKLF5OZajeHB+z2AvBFURfGFg1BQYuPmyP1arnRwNeteLC2K/VruRHk5YxWVrMWQlQiSYAqSBKgKujkH+qg5OPrIf+6lbo1WqjdWk2GGnZTx9mY202zcwGsflF93fEVeOB1y8V9vYIcmH8/XDwMjbrDgKWVP7W/PM7tRvl6IJqMM+i1jmgNhWhQWKvtxHM5/0WPXZm36Ry01PNxo76vGw1quVHfV02MQn1c0TmUfY8QQlSEJEAVJAlQFaYvVHdhP/oLHF0HqQdNr7v5q3uHNeymrsKs87x5fXu+UBc6BGj3AnR907pJSfIBmP8A6POhx1RoM8x6z6ooRVGTw7WjQV8A3qHwyGeQ9jes+D8wFFHUqAeH23/AscuFHEvN4vhF9TiZlk2hvuz/tGg0EOztYmwpquvjSrC3M3VquBDk7YyTvSRHQojykQSogiQBuoOkn4Fj69Rk6MRGKMy+dk1rD8Ftr7UO+d5jmtzsXw7fDQMUdaHF7u9WTotMSXebnRM8tQH8mlj/meYqyFZbxfYvU9+H9YJ/zVGXJgA48hN8PUhN5Op1VrcHcXQ13l6kN3DmSi7HU7M4djGL48XJ0bHULDLLmI1WQqMBfw8dwTVcCPZ2oU4NF4JrOBd/daGWm5N0qwkhbkgSoAqSBOgOVZQPp7eoydDRX+DSUdPrHrWLk6GukJ8FK58BRQ8th0CvGZXXHaUo8OXDauLm2wSG/QYOVWjV5rSjsOwJuHhIXQE7ZrzaOvbP78/J32HJo2rSGRwFj319LUG6AUVRSMsqMLYUHU/NJulyDmcu53DmSg45BTff9NXJXkvt4taikqSoJFkKruGMu04GZAtRnUkCVEGSAN0lLp+Ao7+qydCpP6Aor3SZyMehz2zrzCq7mayL8HE7yE6FNk9Bj/cr9/k38tdK+H44FFxVB2v/e8ENN3MF4MwO+LIf5GWo+7f9ZwW41SrXoxVF4VJ2wbWE6HIOZy7nqu+v5HA+PRfDLf5r5eXiQICnMwGeuuuO4vdezvh76HB2lC42Ie5WkgBVkCRAd6HCXDi1SU2G/v5ZXVeoeX+I+xi0NvqDePRXNXkAGLDs9vcZswZ9IawbB1s/Ut/Xba8mP+63sXp68gH4PA6yL0LNhjDwe/AMsniIhXoD59NzTZKipMs5nL2sfr2SU3hb9Xi7OOAvSZIQdyVJgCpIEqC7nKJAziVwqWn7WVhrX4Otc9RYntlyewmHpWWeh+WD1cHlAO1HwAPjwM6MLTLSjsFn/4LMs+BZBwZ9DzXqWSXcG7maV8jZK7kkZ+ZxIT2P5IxczmfkkZyRx4WMXC5k5N2yi61EC+cUXnBYyXnXJuwNHICvhxO13Jyo5a677rUTrk6yjYgQVYkkQBUkCZCoNEX5ML8LpPwJ9e6H/3xXud1xJzbAN0MhJw2cPCHuI7inV/nqSj+jblty+YQ6G2/gSnXgeRWhKAqZeUXGZCg5I48L6errC8VJUnpGOkMN3zLM7kccNGqy9Hrhk3ypjymzTldHO2q5O+HrrqOWu1Opw7f4a01XJ+xk8LYQVicJUAVJAiQq1cUj8L9OUJRr+RWob8RggE3TYP07oBjArxn0/6zirTZXU+DzvpD6Fzh7qwldZW1iW1GHf0T56RU0GermsVmejXDL+BsDWr6qP4XN2nu5eDWf1Kv5pGbmk1t4e61JAFoN1HB1wsfNkRqu6lHT1ZEark7UcCt5fe2rl4ujJExClIMkQBUkCZCodDsXwuqRoHVQN0wNjLTes3Iuw4qn4ejP6vsW/1HXJLLUTLScy/Dlv+HcLnB0h8eWQUh7y9RtDVdOw0+vwt8/qe8968CD70HjB9U1ovZ+CY5uMOQnCGhuvC07v4jUq/lcLD5Sr+Zd97r4fFY+l7Lybzl4+5+0GvByuS4xMiZOTtR0dSTALp0aThqcfUPwcnHE28UBZwc72atNVHuSAFWQJECi0ikKLPsPHF4NNRvA//1usq6OxZzfA18PhPQksNepic+9T1j+OflX4asB6uw7ex30/1JdoLIqKcqHLR/C71PV1jetg9r61vHla9/7ogI1mTu5EdwD4L8JZg/wLtIbuJxTwMWr+VzOLuBydgFpWQVczlbfX8oqMJ6/lF1ARu7NB3O30RxigeP7OFHIm0VP8Lm+K6DB0U6Ll4tD8eGIl7MD3i6O1967OODlfO11yTVZlVvcTSQBqiBJgIRN5FxWd42/el5NgmqFgVcd8AwGr2DwrK22TrjUMH/wtqLArkXw0yvFqzqHwCOfm7RoWFxhrrpY4tGf1eSi3yfQNM56zzPHiY3w40vX1ooK6QA9p0GtxqXL5qbDglh1CxO/cLUlSGe9/y4U6g1cybmWGF3KLuBylposeSYn8p+Tr+KkXFvS4TtDR8YUPEk+juV6ns5Bi5ezI57ODng426tfdQ54OBcfOns8nB2uO19cxtkBN0d7WZhSVCmSAFWQJEDCZk7+AV/0U1dYvhEHl38kRcHXEiXP2mpLxfUzuApyild1Xqq+b9xDnf5/i0ULLaKoAFY8BX+tUPdt6zMbWjxu/efeyNUU+OV1+HO5+t61FsS+A80evnlSmZ4En8RAVgrU76J269lV8qKLxxJg6WPqelYNuqrdiglvgmJA7x9B6oPzuWTvT0ZuIVdyCkjPKSS9+OuVnEIycgu4ct259NxC9Ob2zf2DVgPuxUmRh840SXJzcsBdZ288St676ezxuO69i6N03QnLkQSogiQBEjaVeR4u7FNnVWUkFX89Cxln1D/At6KxA4+gawnShf3Fqzproct4dZp7Zf7BMejhhxGw53P1/YNTIOr/Ku/5JTHs+BR+m1S8ma4GWv8XHnjj9hPBc7thUU8ozIF7B0HvDyrv+/j3z2oXqb4AGj0IjywGeyd1Ft/yIZB7WV1K4d8LoV6n26pSURSy8ouKE6QCMnOLyMwrJDO3kIzcwuLXRde9LjlfRGZuIflFBot8NK0G3JzscdcVJ0hOxQlT8Xt3J/Wc63VfXZ3s1K+OJefU9072WkmmqjlJgCpIEiBRZRXmQeY5tUWiJClKP1P8NUm9Zihjry1XX3h44c1XdbYmRYGfX7u20OIDY6HDS5WTQJzdpQ4wT96vvg9sAT2nl2922uE1aisMCsRMgPtetGCgN3rmj2pXoqEQ7ukN/RaA/XXdXelJanJ0YZ+a5HZ9E6KHW/17m1eoLzNJKkmQruYVkZVf/DWviKt5RVzNL+JqXiFZ+er7irZA/ZO9VnNdomR37bVjSQJVnDg52ePsYIerkx0ujmorlIujffH74teO9jg72uFoX8mrxIsKkQSogiQBEncsg15tJbo+KTIUwb0DbbPI4vUUBTa8CxvfVd+3HwExE633hzr3Cvw6UR37hKKucxQzTt37rSKrf5dsZgtqi0v4Q5aItmx/rYRvh6o/w6YPwUPzyu56K8xVuzn3faW+D+8HfT60zkB6C1EUhbxCA1fzCosTo5JESX1vTJryCskuKCIrX092fhFZ+UVkFx8l58xZksBcDnaa4mTpWqLk4qi+d3a0w8VBTZp0jna4ONhf99oOZ8fiw6EksbJD56DW4exgh85BWqwsTRKgCpIESAgr2jJbHYcD0OpJdQyOJTeDVRQ1EfhlrLrAI0DzR6HbJHDztcwzfhoN2z4GOycYtArqtLVMvdf78xv47il1w97m/eFfH918dW5Fge3z4ecxasLk2xQe/aLSV+S2Bb1BIbvgWmKUfX2ydF3yVHIut0BPdoGenPwicgr05BQUkV2gLz5fRE6+ngK9Zbr4bsXZwY5Ah2z+pf2dLspWHDV6CjVOFNnp0BcfBjsdir0Og70LODijcdChcXRB6+CMxskFe0dX7JyccXByxV7ngoPODSdnVxx1Ljg5u+Kkc8HeoXyD5O80kgBVkCRAQljZrkXww0ig+D8/dk7qWBydV/FXz+teF783uX7dOUe3a61IKQfV2V1JW9T3Po2h13TLd/0Z9LDsCTjyIzjXUNduqlnfcvXvWworn1EXqYx8XG3Nud1Wq9Nb1C6z7FT1e9RvQdVbguAOUKg3XEuO8q9LjgqKk6b8kvd68gr1xWVLXheRW2ggt0Btncop0JNXoCen+HVBkQENBtpr/+JRu/V00+7AUWO9ViyAQsWOfBzJ1zhSiCMFWkcKNU7FyZYTeq0jeq0Og50TBnsdSvFX7J2NSVeWZxgZvm1wcrTDyd4OJ3utehS3Zv3znJO9FnutplJbuSQBqiBJgISoBAe+Vbtt8jIqVo/Wvjhh8rzW5efgAp1ehbbPmo6XsaSCbHVQ9Pk9aivL0F/BtWbF6939Oax6HlDUwda9Zpq/PUrmeXW9p7M7AA088Drc91LlbrMiypZxDsOeL2HP52gzkoync2o240L9h8nS+VGUl4uhIAdDQQ5KYS5KYQ4U5qIpykNTlIu2KA87fS5afT4O+jzsDXk4GPJxVNTDiXx0SgFOmtvbINgcJw1+LNPfz7f6jlzE65bltRrUxMihODEqSZIctDzcMphB7UIsGp8kQBUkCZAQlcRggIKr6lo7eRmQl178Or3sc3kZptcNZfwHPqwXdJ+sLg1gbVdT1OnxGUkQ3BYGfg8OuvLXt3OBmhQCtB6mzpgrb9JSlK+ucL1rofo+rJe6/IEV1zASN6AvVGfy7f4Mjq1TW/ZAHZfW/BF1MdKACIs/1qDXk5+XQ35uNvn5ORTm5lCYn01hfi6F+bno83PQF+SiL8jBUJBXnGypB0X5UJSHtqg40SrKonH2LpyVHPUjoWWbQxt+sO/KJkMEuXoN+UV68osMFNzmDMHh9zfg5dgy1t6qAEmAKkgSICHuAIqiTkm/PilydLPu4o5lST0Mn3aD/Ax18PFDn5Qvadn2P3WhSlBbrmLfscwA8V2LYc3L6hR6n0bqqty1GlW8XnFrl46ryz/sXWK6hEXd9urEhHv6gKOL7eIzV34WHFyp/k6d3X7tvEeQ2lXb4j/gXReDQaFAbyC/yKAmRYXXvS4ykFeofg32dqGBr5tFQ5QEqIIkARJCmOXERvjiIbX77b54iBlv3v3XDwy3xuy4szvVMUtXz6v7sz30Pwjrabn6xTWFeXDoB9i9WN0KpoRrLYh8DFo8AT4NbRefpaQeUrtr932lrkMFgAbq368md417Wq/7+SYkAaogSYCEEGbbu0QduAzqIoktB9/efX9Mh4SJ6usOL6uLM1pj0GhWKiwfDKc3q+87joLOYyq2JEBlyM9SW6/sHIsPh8pdyPN2JR9Qu7j2L1NbIwHQQIMYNSFo1N0mCYHVFeWrexjuWqzumVfCpSZEDFDHsVVii6MkQBUkCZAQolzWvwMb31NX4358OTTocvPyG96DDe+orzu/Bp1ftW58+kJ1eYBtH6vvG3SFfvPB2du6z72VvAy4fOLacem619mppcvbOaozB+0c1BWx7RyK3zuqSYbdPw7juZKyjtd9LXl9g/Pam5TXOsCZrWric27Xtfg8g9XuoMjH1RXZq4vLJ9Uuvz1fQlbytfN1otUksEmc1bv8JAGqIEmAhBDloiiw4ml13zVHd3hyLfiHl11u/dvw+/vq+y7j1JWxK8u+Zer2JEW54B0Kj34Jfk2t+8zcK6WTm5KjZL2mO5nWXt1nr+UgqHd/1W9ZsyZ9kTrYe9didTNk46BvD3XfvXsHQmCkVR4tCVAFSQIkhCi3onz4/CE4vUkdHPrfBPAIuHZdUeDX8bD5A/V9t7eg3fOVH+eF/bDscXXpAAcXdWDu9S0bdo7qwovXv7ZzLH5/fbnrWk+0Dmq5ony1NeDyCbh8XP2ae+Xm8bj6qssJ1KwPNULV1zXqqQmao5vaDabPV1uxivKL3xcfRQW3f72oQJ09qC9Q/1AbyxWfMxRee238epOybv7q2J6IAeBWq3J+dneSzPOw90t1vFD66WvnAyLULVuaP2LZx0kCVDGSAAkhKiT3ijozLO1v8G8GQ34CJ/fiPdFeh61z1HLd34O2T9suzpzL8M2TcGJ95TzPPaA4sbkuwalRnPA4uVdODMI2DAZ1jNDuz9QxQ/oCdS+9mAkWfYwkQBUkCZAQosIun1TXCMpJg4bd4NElsHYM7JivXu85Td2R3tYMejiWANkXr2v9KDRtJflni4mh8B+vr7+nUO3+8Q4pTm7qXUt6qvDeZKISZV9SB4s3flD9vbAgSYAqSBIgIYRFnN2prhZdlAc1G8ClY4AG+sxSx0EIISzKnL/fVWJd9Dlz5hASEoJOpyMqKort27fftPzy5csJCwtDp9PRrFkz1qxZY3JdURTGjRtHQEAAzs7OxMTEcPToUWt+BCGEKK12K3hoPqBRkx+NVl2NWZIfIWzO5gnQsmXLiI+PZ/z48ezevZuIiAhiY2NJTS1j6iOwZcsWBgwYwNChQ9mzZw9xcXHExcVx4MABY5kpU6Ywa9Ys5s6dy7Zt23B1dSU2Npa8vLzK+lhCCKFq0kfdkNU7VE2GIgfYOiIhBFWgCywqKorWrVsze/ZsAAwGA8HBwTz//POMHj26VPn+/fuTnZ3N6tWrjefatm1LZGQkc+fORVEUAgMDeemll3j55ZcByMjIwM/Pj0WLFvHoo4/eMibpAhNCCCHuPHdMF1hBQQG7du0iJibGeE6r1RITE0NiYmKZ9yQmJpqUB4iNjTWWP3nyJMnJySZlPD09iYqKumGd+fn5ZGZmmhxCCCGEuHvZNAFKS0tDr9fj5+dnct7Pz4/k5OQy70lOTr5p+ZKv5tQ5efJkPD09jUdwcDVauVMIIYSohmw+BqgqGDNmDBkZGcbjzJkztg5JCCGEEFZk0wTIx8cHOzs7UlJSTM6npKTg7+9f5j3+/v43LV/y1Zw6nZyc8PDwMDmEEEIIcfeyaQLk6OhIy5YtSUhIMJ4zGAwkJCQQHR1d5j3R0dEm5QHWrVtnLB8aGoq/v79JmczMTLZt23bDOoUQQghRvdjbOoD4+HgGDRpEq1ataNOmDTNnziQ7O5shQ4YAMHDgQIKCgpg8eTIAI0aMoFOnTkybNo2ePXuydOlSdu7cybx58wDQaDSMHDmSt956i4YNGxIaGsrYsWMJDAwkLi7OVh9TCCGEEFWIzROg/v37c/HiRcaNG0dycjKRkZGsXbvWOIg5KSkJrfZaQ1W7du1YsmQJb7zxBq+99hoNGzZk5cqVhIdf23H5lVdeITs7m6eeeor09HTuu+8+1q5di06nq/TPJ4QQQoiqx+brAFVFsg6QEEIIcee5Y9YBEkIIIYSwBUmAhBBCCFHtSAIkhBBCiGpHEiAhhBBCVDuSAAkhhBCi2pEESAghhBDVjs3XAaqKSlYGkF3hhRBCiDtHyd/t21nhRxKgMly9ehVAdoUXQggh7kBXr17F09PzpmVkIcQyGAwGzp8/j7u7OxqNxqJ1Z2ZmEhwczJkzZ2SRRRuSn0PVID+HqkF+DlWD/BwqTlEUrl69SmBgoMkuEmWRFqAyaLVaateubdVnyK7zVYP8HKoG+TlUDfJzqBrk51Axt2r5KSGDoIUQQghR7UgCJIQQQohqRxKgSubk5MT48eNxcnKydSjVmvwcqgb5OVQN8nOoGuTnULlkELQQQgghqh1pARJCCCFEtSMJkBBCCCGqHUmAhBBCCFHtSAIkhBBCiGpHEqBKNGfOHEJCQtDpdERFRbF9+3Zbh1StTJgwAY1GY3KEhYXZOqy73u+//07v3r0JDAxEo9GwcuVKk+uKojBu3DgCAgJwdnYmJiaGo0eP2ibYu9itfg6DBw8u9e+je/futgn2LjZ58mRat26Nu7s7vr6+xMXFceTIEZMyeXl5PPfcc9SsWRM3Nzf69etHSkqKjSK+e0kCVEmWLVtGfHw848ePZ/fu3URERBAbG0tqaqqtQ6tWmjZtyoULF4zHpk2bbB3SXS87O5uIiAjmzJlT5vUpU6Ywa9Ys5s6dy7Zt23B1dSU2Npa8vLxKjvTudqufA0D37t1N/n189dVXlRhh9bBx40aee+45tm7dyrp16ygsLKRbt25kZ2cby7z44ov88MMPLF++nI0bN3L+/HkeeughG0Z9l1JEpWjTpo3y3HPPGd/r9XolMDBQmTx5sg2jql7Gjx+vRERE2DqMag1QVqxYYXxvMBgUf39/5f333zeeS09PV5ycnJSvvvrKBhFWD//8OSiKogwaNEj517/+ZZN4qrPU1FQFUDZu3Kgoivr77+DgoCxfvtxY5tChQwqgJCYm2irMu5K0AFWCgoICdu3aRUxMjPGcVqslJiaGxMREG0ZW/Rw9epTAwEDq1avH448/TlJSkq1DqtZOnjxJcnKyyb8NT09PoqKi5N+GDWzYsAFfX18aN27MM888w6VLl2wd0l0vIyMDgBo1agCwa9cuCgsLTf5NhIWFUadOHfk3YWGSAFWCtLQ09Ho9fn5+Juf9/PxITk62UVTVT1RUFIsWLWLt2rV8/PHHnDx5kg4dOnD16lVbh1Ztlfz+y78N2+vevTufffYZCQkJvPfee2zcuJEHH3wQvV5v69DuWgaDgZEjR9K+fXvCw8MB9d+Eo6MjXl5eJmXl34TlyW7wotp48MEHja+bN29OVFQUdevW5euvv2bo0KE2jEwI23v00UeNr5s1a0bz5s2pX78+GzZsoEuXLjaM7O713HPPceDAARmLaCPSAlQJfHx8sLOzKzWKPyUlBX9/fxtFJby8vGjUqBHHjh2zdSjVVsnvv/zbqHrq1auHj4+P/PuwkuHDh7N69WrWr19P7dq1jef9/f0pKCggPT3dpLz8m7A8SYAqgaOjIy1btiQhIcF4zmAwkJCQQHR0tA0jq96ysrI4fvw4AQEBtg6l2goNDcXf39/k30ZmZibbtm2Tfxs2dvbsWS5duiT/PixMURSGDx/OihUr+O233wgNDTW53rJlSxwcHEz+TRw5coSkpCT5N2Fh0gVWSeLj4xk0aBCtWrWiTZs2zJw5k+zsbIYMGWLr0KqNl19+md69e1O3bl3Onz/P+PHjsbOzY8CAAbYO7a6WlZVl0opw8uRJ9u7dS40aNahTpw4jR47krbfeomHDhoSGhjJ27FgCAwOJi4uzXdB3oZv9HGrUqMHEiRPp168f/v7+HD9+nFdeeYUGDRoQGxtrw6jvPs899xxLlizh+++/x93d3Tiux9PTE2dnZzw9PRk6dCjx8fHUqFEDDw8Pnn/+eaKjo2nbtq2No7/L2HoaWnXy4YcfKnXq1FEcHR2VNm3aKFu3brV1SNVK//79lYCAAMXR0VEJCgpS+vfvrxw7dszWYd311q9frwCljkGDBimKok6FHzt2rOLn56c4OTkpXbp0UY4cOWLboO9CN/s55OTkKN26dVNq1aqlODg4KHXr1lWGDRumJCcn2zrsu05ZPwNAWbhwobFMbm6u8uyzzyre3t6Ki4uL0rdvX+XChQu2C/oupVEURan8tEsIIYQQwnZkDJAQQgghqh1JgIQQQghR7UgCJIQQQohqRxIgIYQQQlQ7kgAJIYQQotqRBEgIIYQQ1Y4kQEIIIYSodiQBEkIIIUS1IwmQEEIIIaodSYCEEEIIUe1IAiSEsIrOnTszfPhwhg8fjqenJz4+PowdO5brd9/5/PPPadWqFe7u7vj7+/PYY4+RmppqvL5hwwY0Gg3p6ekmdWs0GlauXAnAqVOn0Gg0pY7Vq1ffMLbNmzfTuXNnXFxc8Pb2JjY2litXrhivL1q0qFR9kZGRxuv5+fm88MIL+Pr6otPpuO+++9ixY0epuDUaDVqtFl9fX4YOHUpeXp6xzKuvvkqjRo1wcXGhXr16jB07lsLCQnO/zUKIcpIESAhhNYsXL8be3p7t27fzwQcfMH36dD755BPj9cLCQiZNmsS+fftYuXIlp06dYvDgweV61q+//sqFCxeMR9euXcsst3fvXrp06UKTJk1ITExk06ZN9O7dG71ebyyjKAoeHh7Gul566SWTOl555RW+/fZbFi9ezO7du427pl++fNmk3JEjRzh37hxffPEFy5YtY+HChcZr7u7uLFq0iIMHD/LBBx8wf/58ZsyYUa7PLoQwn72tAxBC3L2Cg4OZMWMGGo2Gxo0b8+effzJjxgyGDRsGwJNPPmksW69ePWbNmkXr1q3JysrCzc3NrGfVrFkTf3//W5abMmUKrVq14qOPPjKea9q0qUmZwsJCHB0djfVdH0t2djYff/wxixYt4sEHHwRg/vz5rFu3jk8//ZRRo0YZy/r6+uLl5UV2djaOjo54enoar73xxhvG1yEhIbz88sssXbqUV155xazPLYQoH2kBEkJYTdu2bdFoNMb30dHRHD161NjasmvXLnr37k2dOnVwd3enU6dOACQlJZnUU7t2bdzc3IxHRZS0AN1MZmYmrq6uZV47fvw4hYWFtG/f3njOwcGBNm3acOjQoVJxu7q60rBhQ3r06MGAAQOM15YtW0b79u3x9/fHzc2NN954o9TnFkJYjyRAQgibyM7OJjY2Fg8PD7788kt27NjBihUrACgoKDAp+8cff7B3717jURHOzs63LHP+/HkCAwMr9BxQ4963bx+//PILmzdvZvr06QAkJiby+OOP06NHD1avXs2ePXt4/fXXS31uIYT1SAIkhLCabdu2mbzfunUrDRs2xM7OjsOHD3Pp0iXeffddOnToQFhYmMkA6OuFhobSoEED41ERzZs3JyEh4aZlduzYQYsWLcq8Vr9+fRwdHdm8ebPxXGFhITt27KBJkyZlxt21a1f69etnTPC2bNlC3bp1ef3112nVqhUNGzbk9OnTFfpcQgjzSAIkhLCapKQk4uPjOXLkCF999RUffvghI0aMAKBOnTo4Ojry4YcfcuLECVatWsWkSZOsHtOYMWPYsWMHzz77LPv37+fw4cN8/PHHpKWlkZaWxuuvv87mzZsZNGhQmfe7urryzDPPMGrUKNauXcvBgwcZNmwYOTk5DB061KRsamoqycnJbNu2jR9++IGwsDAAGjZsSFJSEkuXLuX48ePMmjXLmBwJISqHJEBCCKsZOHAgubm5tGnThueee44RI0bw1FNPAVCrVi0WLVrE8uXLadKkCe+++y5Tp061ekyNGjXil19+Yd++fbRp04bo6Gi+//577O3t+fLLL/n5559ZsWIFbdq0uWEd7777Lv369eOJJ57g3nvv5dixY/z88894e3ublGvcuDEBAQH06tWLVq1aMWXKFAD69OnDiy++yPDhw4mMjGTLli2MHTvWqp9bCGFKo1y/KIcQQlhI586diYyMZObMmbYORQghSpEWICGEEEJUO5IACSGEEKLakS4wIYQQQlQ70gIkhBBCiGpHEiAhhBBCVDuSAAkhhBCi2pEESAghhBDVjiRAQgghhKh2JAESQgghRLUjCZAQQgghqh1JgIQQQghR7UgCJIQQQohq5/8B6T/EfT45jtwAAAAASUVORK5CYII=\n",
      "text/plain": [
       "<Figure size 640x480 with 1 Axes>"
      ]
     },
     "metadata": {},
     "output_type": "display_data"
    },
    {
     "name": "stdout",
     "output_type": "stream",
     "text": [
      "The highest 10 ranks and practical frequencies\n",
      "дождь : 0.04\n",
      "крупный : 0.02\n",
      "дробь : 0.013333333333333334\n",
      "барабанить : 0.02\n",
      "капюшон : 0.008\n",
      "плащ : 0.006666666666666667\n",
      "наполнять : 0.011428571428571429\n",
      "осенний : 0.005\n",
      "мокрый : 0.0044444444444444444\n",
      "прохлада : 0.008\n",
      "\n",
      "Деловой стиль\n"
     ]
    }
   ],
   "source": [
    "Draw_frequencies(ideal,practical)\n",
    "print()\n",
    "print(style)"
   ]
  },
  {
   "cell_type": "code",
   "execution_count": null,
   "id": "32008245-2971-43ea-90dc-5f8b6a693a87",
   "metadata": {},
   "outputs": [],
   "source": []
  }
 ],
 "metadata": {
  "kernelspec": {
   "display_name": "Python 3 (ipykernel)",
   "language": "python",
   "name": "python3"
  },
  "language_info": {
   "codemirror_mode": {
    "name": "ipython",
    "version": 3
   },
   "file_extension": ".py",
   "mimetype": "text/x-python",
   "name": "python",
   "nbconvert_exporter": "python",
   "pygments_lexer": "ipython3",
   "version": "3.10.6"
  }
 },
 "nbformat": 4,
 "nbformat_minor": 5
}
зличных словоформ и лемм;\n",
    "#     3. выводить списки самых частотных словоформ и лемм;\n",
    "#     4. строить графики (реальный и ожидаемый) зависимости относительной частоты от ранга словоформы и леммы.\n",
    "\n",
    "# Отчет: программа с комментариями, подсчитанная статистика, комментарии к способу ее подсчета, описание проведенных тестов, выводы.\n",
    "\n",
    "# Прикладные задачи: оценка естественности текста, определение стиля/жанра текста."
   ]
  },
  {
   "cell_type": "code",
   "execution_count": 2,
   "id": "2a7d3997-e413-430c-b1fb-70c912942b63",
   "metadata": {},
   "outputs": [],
   "source": [
    "#importing modules\n",
    "import nltk\n",
    "from nltk.corpus import stopwords\n",
    "from nltk.tokenize import word_tokenize \n",
    "from nltk.tokenize.punkt import PunktSentenceTokenizer\n",
    "\n",
    "import pymorphy2\n",
    "import string\n",
    "from collections import Counter\n",
    "import operator\n",
    "import matplotlib.pyplot as plt\n",
    "from tqdm.notebook import tqdm"
   ]
  },
  {
   "cell_type": "code",
   "execution_count": 3,
   "id": "46a3c592-c163-4845-8e16-9ff271b8b326",
   "metadata": {},
   "outputs": [],
   "source": [
    "#modules"
   ]
  },
  {
   "cell_type": "code",
   "execution_count": 4,
   "id": "78d4af9d-4471-43c8-9650-1c2141a125c0",
   "metadata": {},
   "outputs": [],
   "source": [
    "#parse the words\n",
    "def morphy(word):\n",
    "    #retuning normal form of word\n",
    "    #it mistakes when word has multiple meaning\n",
    "    morph = pymorphy2.MorphAnalyzer()\n",
    "    parse= morph.parse(word)[0]\n",
    "    return parse.normal_form\n",
    "\n",
    "def f_morphy_dict(word):\n",
    "    #returns position of word\n",
    "    morph=pymorphy2.MorphAnalyzer()\n",
    "    parse=morph.parse(word)[0]\n",
    "    return parse.tag.POS"
   ]
  },
  {
   "cell_type": "code",
   "execution_count": 5,
   "id": "34e8175a-409b-4766-b828-50da2310bbba",
   "metadata": {},
   "outputs": [],
   "source": [
    "#tokenizing by sentences\n",
    "def Sent_tokenizing(Text):\n",
    "    Text_sent_tokenized=[]\n",
    "    tokenizer = PunktSentenceTokenizer()\n",
    "    paragraphs = [p for p in Text.split('\\n') if p] #spliting by \\n\n",
    "    for paragraph in paragraphs:\n",
    "        Text_sent_tokenized += tokenizer.tokenize(paragraph,'russian')\n",
    "    return Text_sent_tokenized"
   ]
  },
  {
   "cell_type": "code",
   "execution_count": 6,
   "id": "1246f74b-85bf-4834-ade1-5366ffbf65dc",
   "metadata": {},
   "outputs": [],
   "source": [
    "#tokenize by words\n",
    "def Word_tokenizing(Text):\n",
    "    special_words=string.punctuation\n",
    "    special_words+='»'+'«'+'–'+'”'+'“'+'—' #adding punctuations, that doesnt excist in module\n",
    "    Text_tokens=nltk.word_tokenize(Text)\n",
    "    t_tokenized=[]\n",
    "    \n",
    "    #deleting puntuations\n",
    "    for word in Text_tokens:\n",
    "        if word not in special_words:\n",
    "            t_tokenized.append(word)\n",
    "    return t_tokenized"
   ]
  },
  {
   "cell_type": "code",
   "execution_count": 7,
   "id": "6f84860d-44bc-46ad-876c-5ad372686c7a",
   "metadata": {
    "tags": []
   },
   "outputs": [
    {
     "name": "stdin",
     "output_type": "stream",
     "text": [
      "Please input the file name: text.txt\n"
     ]
    }
   ],
   "source": [
    "#making text object from file\n",
    "file_name=input(\"Please input the file name:\")\n",
    "file=open(file_name,'r',encoding='UTF-8')\n",
    "Text=file.read()\n",
    "file.close()"
   ]
  },
  {
   "cell_type": "code",
   "execution_count": 8,
   "id": "d62a4629-cf4c-42e9-9f15-46b0326aad15",
   "metadata": {},
   "outputs": [
    {
     "data": {
      "application/vnd.jupyter.widget-view+json": {
       "model_id": "ea6153362b7646dfadb3071051f4b861",
       "version_major": 2,
       "version_minor": 0
      },
      "text/plain": [
       "  0%|          | 0/2018 [00:00<?, ?it/s]"
      ]
     },
     "metadata": {},
     "output_type": "display_data"
    }
   ],
   "source": [
    "#make list to analize morphic structure\n",
    "#make dictionary to analyze style of text\n",
    "Text_tokenized=Word_tokenizing(Text)\n",
    "Text_morphy=[]\n",
    "Text_dict={}\n",
    "with tqdm(total=len(Text_tokenized)) as pbar: #to see how many times left\n",
    "    for word in Text_tokenized:\n",
    "        Text_morphy.append(morphy(word))\n",
    "        Text_dict[word]=f_morphy_dict(word)\n",
    "        pbar.update(1)"
   ]
  },
  {
   "cell_type": "code",
   "execution_count": 33,
   "id": "b9926a1c-317e-4c51-a0d1-2a91630277d3",
   "metadata": {},
   "outputs": [],
   "source": [
    "#stop words including\n",
    "#words from module were not enough\n",
    "stop_words_file=open(\"stop_words.txt\",'r',encoding=\"utf-8\")\n",
    "stop_words_list=stop_words_file.read()\n",
    "stop_words_file.close()\n",
    "stop_words=stop_words_list.split('\\n')"
   ]
  },
  {
   "cell_type": "code",
   "execution_count": 38,
   "id": "e3c13a10-d0b4-4483-9c07-129c0d8e6c9f",
   "metadata": {
    "tags": []
   },
   "outputs": [],
   "source": [
    "# осуществлять морфологический анализ словоформ текста;\n",
    "# подсчитывать частоты и ранги различных словоформ и лемм;\n",
    "# выводить списки самых частотных словоформ и лемм;\n",
    "#строить графики (реальный и ожидаемый) зависимости относительной частоты от ранга словоформы и леммы.\n",
    "\n",
    "#clearing digits\n",
    "Text_cleared=[]\n",
    "for word in Text_morphy:\n",
    "    if not word.isdigit() and word not in stop_words:\n",
    "        Text_cleared.append(word)\n",
    "    pbar.update(1)\n",
    "\n",
    "#giving Rank of text\n",
    "Text_counted=dict(Counter(Text_cleared))\n",
    "Text_sorted=dict(sorted(Text_counted.items(),key=operator.itemgetter(1), reverse=True))\n",
    "j=1\n",
    "rang={}\n",
    "for word in Text_sorted.keys():\n",
    "    rang[word]=j\n",
    "    j+=1\n",
    "\n",
    "#counting frequency for each words that inversely proportional of rank\n",
    "#law of Zipf\n",
    "word_frequency={}\n",
    "for word in rang.keys():\n",
    "    word_frequency[word]=0.08/rang[word]#В НКРЯ 0.08"
   ]
  },
  {
   "cell_type": "code",
   "execution_count": 37,
   "id": "e02f3808-922a-4b63-8750-53d051905b38",
   "metadata": {},
   "outputs": [
    {
     "data": {
      "image/png": "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\n",
      "text/plain": [
       "<Figure size 640x480 with 1 Axes>"
      ]
     },
     "metadata": {},
     "output_type": "display_data"
    },
    {
     "name": "stdout",
     "output_type": "stream",
     "text": [
      "The highest 10 ranks and frequencies\n",
      "лес : 0.08\n",
      "лагерь : 0.04\n",
      "палатка : 0.02666666666666667\n",
      "дождь : 0.02\n",
      "лялька : 0.016\n",
      "словно : 0.013333333333333334\n",
      "труд : 0.011428571428571429\n",
      "рюкзак : 0.01\n",
      "дерево : 0.008888888888888889\n",
      "собака : 0.008\n"
     ]
    }
   ],
   "source": [
    "#printing graph of frequency/rank\n",
    "plt.plot(word_frequency.values()) #y-gives frequency\n",
    "plt.show()\n",
    "\n",
    "#printing the highest 10 values\n",
    "key=list(word_frequency.keys())\n",
    "value=list(word_frequency.values())\n",
    "print('The highest 10 ranks and frequencies')\n",
    "for i in range(10): \n",
    "    print(key[i],':',value[i])"
   ]
  },
  {
   "cell_type": "code",
   "execution_count": 31,
   "id": "005c1d97-4f3c-4695-9f1c-fc48da718e74",
   "metadata": {},
   "outputs": [],
   "source": [
    "#определение стиля/жанра текста.\n",
    "\n",
    "#counting параметр β, отражающий соотношение динамичности и статичности текстов коллекции\n",
    "# #(гл+сущ) + #(гл+нар) + #(деепр+сущ) + #(деепр+нар) )/(#(сущ+сущ) + #(прил+сущ)), где # – количество конструкций определённого типа\n",
    "Dict_for_beta={'VERB+NOUN':0,'VERB+ADVB':0,'GRND+NOUN':0,'GRND+ADVB':0,'NOUN+NOUN':0,'ADJF+NOUN':0}\n",
    "prev=''\n",
    "for word in Text_dict.keys():\n",
    "    if prev=='':\n",
    "        prev=word\n",
    "        continue\n",
    "    if Text_dict[prev]=='VERB':\n",
    "        if Text_dict[word]=='NOUN':\n",
    "            Dict_for_beta['VERB+NOUN']+=1\n",
    "        elif Text_dict[word]=='ADVB':\n",
    "            Dict_for_beta['VERB+ADVB']+=1\n",
    "    elif Text_dict[prev]=='GRND':\n",
    "        if Text_dict[word]=='NOUN':\n",
    "            Dict_for_beta['GRND+NOUN']+=1\n",
    "        elif Text_dict[word]=='ADVB':\n",
    "            Dict_for_beta['GRND+ADVB']+=1\n",
    "    elif Text_dict[prev]=='NOUN':\n",
    "        if Text_dict[word]=='NOUN':\n",
    "            Dict_for_beta['NOUN+NOUN']+=1\n",
    "    elif Text_dict[prev]=='ADJF':\n",
    "        if Text_dict[word]=='NOUN':\n",
    "            Dict_for_beta['ADJF+NOUN']+=1\n",
    "    prev=word\n",
    "\n",
    "Beta_up=(Dict_for_beta['VERB+NOUN']+Dict_for_beta['VERB+ADVB']+Dict_for_beta['GRND+NOUN']+Dict_for_beta['GRND+ADVB'])\n",
    "Beta_down=Dict_for_beta['NOUN+NOUN']+Dict_for_beta['ADJF+NOUN']\n",
    "Beta=Beta_up/Beta_down\n",
    "\n",
    "#counting midium длины предложения\n",
    "#midium length=length of each sentece / length of all sentences divided by sentence\n",
    "Sent_tokens=Sent_tokenizing(Text)\n",
    "Sent_tokenized=[]\n",
    "for sent in Sent_tokens:\n",
    "    Sent_tokenized.append(Word_tokenizing(sent))\n",
    "mid_len_sent=0\n",
    "for sent in Sent_tokenized:\n",
    "    mid_len_sent+=len(sent)\n",
    "mid_len_sent/=len(Sent_tokens)\n",
    "\n",
    "#calculating other parameter\n",
    "Dict_count=dict(Counter(Text_dict.values()))\n",
    "NPRO=Dict_count['NPRO']/len(Text_counted) #доля частиц\n",
    "PRCL=Dict_count['PRCL']/len(Text_counted) #доля местоимений\n",
    "ADJF=Dict_count['ADJF']/len(Text_counted) #доля прилагательных"
   ]
  },
  {
   "cell_type": "code",
   "execution_count": 32,
   "id": "f53a4f5b-b1fd-4a77-a328-01f342a788ef",
   "metadata": {},
   "outputs": [
    {
     "name": "stdout",
     "output_type": "stream",
     "text": [
      "The type of text: Публицистический стиль\n",
      "\n",
      "{'VERB+NOUN': 64, 'VERB+ADVB': 10, 'GRND+NOUN': 23, 'GRND+ADVB': 7, 'NOUN+NOUN': 161, 'ADJF+NOUN': 146}\n",
      "\n",
      "midium length of sentences= 15.404580152671755\n",
      "доля частиц= 0.03558282208588957\n",
      "доля местоимений= 0.022085889570552148\n",
      "доля прилагательных= 0.249079754601227\n"
     ]
    }
   ],
   "source": [
    "if mid_len_sent>=18 and Beta<=0.1:\n",
    "    print('The type of text: Деловой стиль')\n",
    "elif NPRO>=0.02 and PRCL>=0.03:\n",
    "    print('The type of text: Художественный стиль')\n",
    "elif 0.1<=ADJF<=0.2 and NPRO<=0.025 and Beta<=0.32:\n",
    "    print('The type of text: Научный стиль')\n",
    "else:\n",
    "    print('The type of text: Публицистический стиль')\n",
    "\n",
    "print()\n",
    "print(Dict_for_beta)\n",
    "print(f\"\\nmidium length of sentences= {mid_len_sent}\")\n",
    "print(f\"доля частиц= {NPRO}\\nдоля местоимений= {PRCL}\\nдоля прилагательных= {ADJF}\")"
   ]
  },
  {
   "cell_type": "code",
   "execution_count": null,
   "id": "e4a1aea2-0410-425d-8a8e-ff02e843c5c7",
   "metadata": {},
   "outputs": [],
   "source": []
  }
 ],
 "metadata": {
  "kernelspec": {
   "display_name": "Python 3 (ipykernel)",
   "language": "python",
   "name": "python3"
  },
  "language_info": {
   "codemirror_mode": {
    "name": "ipython",
    "version": 3
   },
   "file_extension": ".py",
   "mimetype": "text/x-python",
   "name": "python",
   "nbconvert_exporter": "python",
   "pygments_lexer": "ipython3",
   "version": "3.10.6"
  }
 },
 "nbformat": 4,
 "nbformat_minor": 5
}
