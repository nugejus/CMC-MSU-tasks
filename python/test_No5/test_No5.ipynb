{
 "cells": [
  {
   "cell_type": "code",
   "execution_count": 1,
   "id": "90a2e449-9485-47b7-853d-373a4bc24ced",
   "metadata": {
    "tags": []
   },
   "outputs": [],
   "source": [
    "# 5. Написать программу, позволяющую проверять для текста выполнение закона Ципфа-Мальдеброта. Программа должна:\n",
    "\n",
    "#     1. осуществлять морфологический анализ словоформ текста;\n",
    "#     2. подсчитывать частоты и ранги различных словоформ и лемм;\n",
    "#     3. выводить списки самых частотных словоформ и лемм;\n",
    "#     4. строить графики (реальный и ожидаемый) зависимости относительной частоты от ранга словоформы и леммы.\n",
    "\n",
    "# Отчет: программа с комментариями, подсчитанная статистика, комментарии к способу ее подсчета, описание проведенных тестов, выводы.\n",
    "\n",
    "# Прикладные задачи: оценка естественности текста, определение стиля/жанра текста."
   ]
  },
  {
   "cell_type": "code",
   "execution_count": 2,
   "id": "2a7d3997-e413-430c-b1fb-70c912942b63",
   "metadata": {},
   "outputs": [],
   "source": [
    "#importing modules\n",
    "import nltk\n",
    "from nltk.tokenize import word_tokenize \n",
    "from nltk.tokenize.punkt import PunktSentenceTokenizer\n",
    "\n",
    "import pymorphy2\n",
    "import string\n",
    "from collections import Counter\n",
    "import operator\n",
    "import matplotlib.pyplot as plt"
   ]
  },
  {
   "cell_type": "code",
   "execution_count": 3,
   "id": "34e8175a-409b-4766-b828-50da2310bbba",
   "metadata": {},
   "outputs": [],
   "source": [
    "#method tokenizers\n",
    "\n",
    "def Sent_tokenizing(Text):\n",
    "    #tokenize by sentences\n",
    "    Text_sent_tokenized=[]\n",
    "    tokenizer = PunktSentenceTokenizer()\n",
    "    paragraphs = [p for p in Text.split('\\n') if p] #spliting by \\n\n",
    "    for paragraph in paragraphs:\n",
    "        Text_sent_tokenized += tokenizer.tokenize(paragraph,'russian')\n",
    "    return Text_sent_tokenized\n",
    "\n",
    "def Word_tokenizing(Text):\n",
    "    #tokenize by words\n",
    "    special_words=string.punctuation\n",
    "    special_words+='»'+'«'+'–'+'”'+'“'+'—' #add punctuations, that doesnt excist in module\n",
    "    Text_tokens=nltk.word_tokenize(Text)\n",
    "    t_tokenized=[]\n",
    "    \n",
    "    #delete puntuations\n",
    "    for word in Text_tokens:\n",
    "        if word not in special_words:\n",
    "            t_tokenized.append(word)\n",
    "    return t_tokenized"
   ]
  },
  {
   "cell_type": "code",
   "execution_count": 4,
   "id": "d62a4629-cf4c-42e9-9f15-46b0326aad15",
   "metadata": {},
   "outputs": [],
   "source": [
    "#text preset method\n",
    "#returns \n",
    "#1.dictionary sorted bey absolute frequency\n",
    "#2.dictionary with positions\n",
    "#3.MorphAnalyzer in pymorphy2\n",
    "\n",
    "def text_preset(Text):\n",
    "    #additional methods\n",
    "    def morphy(word,morph):\n",
    "        #retuns normal form and posintion of word\n",
    "        #it mistakes when word has multiple meaning\n",
    "        parse= morph.parse(word)[0]\n",
    "        return parse.normal_form,parse.tag.POS\n",
    "    def import_stop_words():\n",
    "        #stop words including\n",
    "        #words from module were not enough\n",
    "        stop_words_file=open(\"stop_words.txt\",'r',encoding=\"utf-8\")\n",
    "        stop_words_list=stop_words_file.read()\n",
    "        stop_words_file.close()\n",
    "        stop_words=stop_words_list.split('\\n')\n",
    "\n",
    "        return stop_words\n",
    "\n",
    "    #make list to analize morphic structure\n",
    "    #make dictionary to analyze style of text\n",
    "    Text_tokenized=Word_tokenizing(Text)\n",
    "    Text_morphy=[]\n",
    "    Text_dict={}\n",
    "\n",
    "    morph = pymorphy2.MorphAnalyzer()\n",
    "    for word_ in Text_tokenized:\n",
    "        word , pos=morphy(word_,morph)\n",
    "        Text_morphy.append(word)\n",
    "        Text_dict[word]=pos\n",
    "\n",
    "    #clear digits and stop words\n",
    "    Text_cleared=[]\n",
    "    stop_words=import_stop_words()\n",
    "    for word in Text_morphy:\n",
    "        if not word.isdigit() and word not in stop_words:\n",
    "            Text_cleared.append(word)\n",
    "    \n",
    "    Text_counted=dict(Counter(Text_cleared))\n",
    "    Text_sorted=dict(sorted(Text_counted.items(),key=operator.itemgetter(1), reverse=True)) #sort by absolute frequency\n",
    "    \n",
    "    return Text_sorted,Text_dict,morph"
   ]
  },
  {
   "cell_type": "code",
   "execution_count": 5,
   "id": "e3c13a10-d0b4-4483-9c07-129c0d8e6c9f",
   "metadata": {
    "tags": []
   },
   "outputs": [],
   "source": [
    "def frequency_clac(Text_sorted):\n",
    "    def get_wordform_len(word,morph):\n",
    "        #return length of word form in 'word'\n",
    "        parse=morph.parse(word)\n",
    "        return len(parse)\n",
    "    \n",
    "    #make Rank of each words by absolute frequency\n",
    "    j=1\n",
    "    rank={}#rank of each words\n",
    "    for word in Text_sorted.keys():\n",
    "        rank[word]=j\n",
    "        j+=1\n",
    "\n",
    "    #calculate frequency for each words that inversely proportional of rank\n",
    "    #law of Zipf\n",
    "    frequency_ideal={}\n",
    "    for word in rank.keys():\n",
    "        frequency_ideal[word]=0.08/rank[word]#В НКРЯ 0.08\n",
    "\n",
    "    frequency_practical={}\n",
    "    for word in rank.keys():\n",
    "        C=0.08*Text_sorted[word]/get_wordform_len(word,morph)\n",
    "        frequency_practical[word]=C/rank[word]\n",
    "        \n",
    "    return frequency_ideal,frequency_practical"
   ]
  },
  {
   "cell_type": "code",
   "execution_count": 6,
   "id": "60fe8ba3-249e-46cc-9217-1652729eea31",
   "metadata": {},
   "outputs": [],
   "source": [
    "def Draw_frequencies(ideal,practical):\n",
    "    #Draw graph of frequency/rank\n",
    "    plt.title(f'распределение для {len(Text_sorted)} слов')\n",
    "    plt.plot(ideal.values(),label='теорет. распр.') #y-gives frequency\n",
    "    plt.plot(practical.values(),label='прак. распр.')\n",
    "    plt.xlabel('ранг слова')\n",
    "    plt.ylabel('относительная частота')\n",
    "    plt.legend()\n",
    "    plt.show()\n",
    "\n",
    "    #print the highest 10 practical frequenty\n",
    "    key=list(practical.keys())\n",
    "    value=list(practical.values())\n",
    "\n",
    "    if len(key)<10:\n",
    "        p_max=len(key)\n",
    "    else:\n",
    "        p_max=10\n",
    "\n",
    "    print(f'The highest {p_max} ranks and practical frequencies')\n",
    "    for i in range(p_max): \n",
    "        print(key[i],':',value[i])"
   ]
  },
  {
   "cell_type": "code",
   "execution_count": 7,
   "id": "bcbc5915-5479-4787-9f0d-14725a2244b3",
   "metadata": {},
   "outputs": [],
   "source": [
    "def Beta_count(Text_dict):\n",
    "    #параметр β, отражающий соотношение динамичности и статичности текстов коллекции\n",
    "    # #(гл+сущ) + #(гл+нар) + #(деепр+сущ) + #(деепр+нар) )/(#(сущ+сущ) + #(прил+сущ)), \n",
    "    #где # – количество конструкций определённого типа\n",
    "    Dict_for_beta={'VERB+NOUN':0,'VERB+ADVB':0,'GRND+NOUN':0,'GRND+ADVB':0,'NOUN+NOUN':0,'ADJF+NOUN':0}\n",
    "    prev=''\n",
    "    #count parameters required by formular\n",
    "    for word in Text_dict.keys():\n",
    "        if prev=='':\n",
    "            prev=word\n",
    "            continue\n",
    "        if Text_dict[prev]=='VERB':\n",
    "            if Text_dict[word]=='NOUN':\n",
    "                Dict_for_beta['VERB+NOUN']+=1\n",
    "            elif Text_dict[word]=='ADVB':\n",
    "                Dict_for_beta['VERB+ADVB']+=1\n",
    "        elif Text_dict[prev]=='GRND':\n",
    "            if Text_dict[word]=='NOUN':\n",
    "                Dict_for_beta['GRND+NOUN']+=1\n",
    "            elif Text_dict[word]=='ADVB':\n",
    "                Dict_for_beta['GRND+ADVB']+=1\n",
    "        elif Text_dict[prev]=='NOUN':\n",
    "            if Text_dict[word]=='NOUN':\n",
    "                Dict_for_beta['NOUN+NOUN']+=1\n",
    "        elif Text_dict[prev]=='ADJF':\n",
    "            if Text_dict[word]=='NOUN':\n",
    "                Dict_for_beta['ADJF+NOUN']+=1\n",
    "        prev=word\n",
    "\n",
    "    Beta_up=(Dict_for_beta['VERB+NOUN']+Dict_for_beta['VERB+ADVB']+Dict_for_beta['GRND+NOUN']+Dict_for_beta['GRND+ADVB'])\n",
    "    Beta_down=Dict_for_beta['NOUN+NOUN']+Dict_for_beta['ADJF+NOUN']\n",
    "    if Beta_down==0:\n",
    "        Beta='Unknown'\n",
    "    else:\n",
    "        Beta=Beta_up/Beta_down\n",
    "    \n",
    "    return Beta"
   ]
  },
  {
   "cell_type": "code",
   "execution_count": 8,
   "id": "005c1d97-4f3c-4695-9f1c-fc48da718e74",
   "metadata": {},
   "outputs": [],
   "source": [
    "def Style_recognize(Text_dict,Text):\n",
    "    #определение стиля/жанра текста.\n",
    "    Beta=Beta_count(Text_dict)\n",
    "\n",
    "    #counting midium длины предложения\n",
    "    #midium length=length of each sentece / length of all sentences divided by sentence\n",
    "    Sent_tokens=Sent_tokenizing(Text)\n",
    "    Sent_tokenized=[]\n",
    "    for sent in Sent_tokens:\n",
    "        Sent_tokenized.append(Word_tokenizing(sent))\n",
    "\n",
    "    mid_len_sent=0\n",
    "    for sent in Sent_tokenized:\n",
    "        mid_len_sent+=len(sent)\n",
    "    mid_len_sent/=len(Sent_tokens)\n",
    "\n",
    "    #calculating other parameter\n",
    "    Dict_count=dict(Counter(Text_dict.values()))\n",
    "    \n",
    "    #check if needed parameter is not in dictionary\n",
    "    ex=Dict_count.keys()\n",
    "    if 'NPRO' not in ex:\n",
    "        Dict_count['NPRO']=0\n",
    "    if 'PRCL' not in ex:\n",
    "        Dict_count['PRCL']=0\n",
    "    if 'ADJF' not in ex:\n",
    "        Dict_count['ADJF']=0\n",
    "\n",
    "    NPRO=Dict_count['NPRO']/len(Text_sorted) #доля частиц\n",
    "    PRCL=Dict_count['PRCL']/len(Text_sorted) #доля местоимений\n",
    "    ADJF=Dict_count['ADJF']/len(Text_sorted) #доля прилагательных\n",
    "    \n",
    "    #print parameters\n",
    "    print('\\nParameters of Style recognizing')\n",
    "    print('Beta=',Beta)\n",
    "    print(f\"midium length of sentences= {mid_len_sent}\")\n",
    "    print(f\"доля частиц= {NPRO}\\nдоля местоимений= {PRCL}\\nдоля прилагательных= {ADJF}\")\n",
    "\n",
    "    #return\n",
    "    if Beta=='Unknown':\n",
    "        return 'Unknown style'\n",
    "    else:\n",
    "        if mid_len_sent>=18 and Beta<=0.1:\n",
    "            return 'Деловой стиль'\n",
    "        elif NPRO>=0.02 and PRCL>=0.03:\n",
    "            return 'Художественный стиль'\n",
    "        elif 0.1<=ADJF<=0.2 and NPRO<=0.025 and Beta<=0.32:\n",
    "            return 'Научный стиль'\n",
    "        else:\n",
    "            return 'Публицистический стиль'"
   ]
  },
  {
   "cell_type": "code",
   "execution_count": 9,
   "id": "6f84860d-44bc-46ad-876c-5ad372686c7a",
   "metadata": {
    "tags": []
   },
   "outputs": [
    {
     "name": "stdin",
     "output_type": "stream",
     "text": [
      "Please input the file name: text.txt\n"
     ]
    },
    {
     "name": "stdout",
     "output_type": "stream",
     "text": [
      "\n",
      "Parameters of Style recognizing\n",
      "Beta= 0.0\n",
      "midium length of sentences= 22.0\n",
      "доля частиц= 0.041666666666666664\n",
      "доля местоимений= 0.041666666666666664\n",
      "доля прилагательных= 0.3333333333333333\n"
     ]
    }
   ],
   "source": [
    "#make text object from file\n",
    "file_name=input(\"Please input the file name:\")\n",
    "file=open(file_name,'r',encoding='UTF-8')\n",
    "Text=file.read()\n",
    "file.close()\n",
    "\n",
    "Text_sorted,Text_dict,morph=text_preset(Text)\n",
    "ideal,practical=frequency_clac(Text_sorted)\n",
    "style=Style_recognize(Text_dict,Text)"
   ]
  },
  {
   "cell_type": "code",
   "execution_count": 10,
   "id": "e02f3808-922a-4b63-8750-53d051905b38",
   "metadata": {},
   "outputs": [
    {
     "data": {
      "image/png": "[encoded data removed]",
      "text/plain": [
       "<Figure size 640x480 with 1 Axes>"
      ]
     },
     "metadata": {},
     "output_type": "display_data"
    },
    {
     "name": "stdout",
     "output_type": "stream",
     "text": [
      "The highest 10 ranks and practical frequencies\n",
      "дождь : 0.04\n",
      "крупный : 0.02\n",
      "дробь : 0.013333333333333334\n",
      "барабанить : 0.02\n",
      "капюшон : 0.008\n",
      "плащ : 0.006666666666666667\n",
      "наполнять : 0.011428571428571429\n",
      "осенний : 0.005\n",
      "мокрый : 0.0044444444444444444\n",
      "прохлада : 0.008\n",
      "\n",
      "Деловой стиль\n"
     ]
    }
   ],
   "source": [
    "Draw_frequencies(ideal,practical)\n",
    "print()\n",
    "print(style)"
   ]
  },
  {
   "cell_type": "code",
   "execution_count": null,
   "id": "32008245-2971-43ea-90dc-5f8b6a693a87",
   "metadata": {},
   "outputs": [],
   "source": []
  }
 ],
 "metadata": {
  "kernelspec": {
   "display_name": "Python 3 (ipykernel)",
   "language": "python",
   "name": "python3"
  },
  "language_info": {
   "codemirror_mode": {
    "name": "ipython",
    "version": 3
   },
   "file_extension": ".py",
   "mimetype": "text/x-python",
   "name": "python",
   "nbconvert_exporter": "python",
   "pygments_lexer": "ipython3",
   "version": "3.10.6"
  }
 },
 "nbformat": 4,
 "nbformat_minor": 5
}
