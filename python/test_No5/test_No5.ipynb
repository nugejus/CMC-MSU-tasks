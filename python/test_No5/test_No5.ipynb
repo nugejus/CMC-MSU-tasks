{
 "cells": [
  {
   "cell_type": "code",
   "execution_count": 1,
   "id": "90a2e449-9485-47b7-853d-373a4bc24ced",
   "metadata": {
    "tags": []
   },
   "outputs": [],
   "source": [
    "# 5. Написать программу, позволяющую проверять для текста выполнение закона Ципфа-Мальдеброта. Программа должна:\n",
    "\n",
    "#     1. осуществлять морфологический анализ словоформ текста;\n",
    "#     2. подсчитывать частоты и ранги различных словоформ и лемм;\n",
    "#     3. выводить списки самых частотных словоформ и лемм;\n",
    "#     4. строить графики (реальный и ожидаемый) зависимости относительной частоты от ранга словоформы и леммы.\n",
    "\n",
    "# Отчет: программа с комментариями, подсчитанная статистика, комментарии к способу ее подсчета, описание проведенных тестов, выводы.\n",
    "\n",
    "# Прикладные задачи: оценка естественности текста, определение стиля/жанра текста."
   ]
  },
  {
   "cell_type": "code",
   "execution_count": 2,
   "id": "2a7d3997-e413-430c-b1fb-70c912942b63",
   "metadata": {},
   "outputs": [],
   "source": [
    "#importing modules\n",
    "import nltk\n",
    "from nltk.corpus import stopwords\n",
    "from nltk.tokenize import word_tokenize \n",
    "from nltk.tokenize.punkt import PunktSentenceTokenizer\n",
    "\n",
    "import pymorphy2\n",
    "import string\n",
    "from collections import Counter\n",
    "import operator\n",
    "import matplotlib.pyplot as plt\n",
    "from tqdm.notebook import tqdm"
   ]
  },
  {
   "cell_type": "code",
   "execution_count": 3,
   "id": "46a3c592-c163-4845-8e16-9ff271b8b326",
   "metadata": {},
   "outputs": [],
   "source": [
    "#modules"
   ]
  },
  {
   "cell_type": "code",
   "execution_count": 4,
   "id": "78d4af9d-4471-43c8-9650-1c2141a125c0",
   "metadata": {},
   "outputs": [],
   "source": [
    "#parse the words\n",
    "def morphy(word):\n",
    "    #retuning normal form of word\n",
    "    #it mistakes when word has multiple meaning\n",
    "    morph = pymorphy2.MorphAnalyzer()\n",
    "    parse= morph.parse(word)[0]\n",
    "    return parse.normal_form\n",
    "\n",
    "def f_morphy_dict(word):\n",
    "    #returns position of word\n",
    "    morph=pymorphy2.MorphAnalyzer()\n",
    "    parse=morph.parse(word)[0]\n",
    "    return parse.tag.POS"
   ]
  },
  {
   "cell_type": "code",
   "execution_count": 5,
   "id": "34e8175a-409b-4766-b828-50da2310bbba",
   "metadata": {},
   "outputs": [],
   "source": [
    "#tokenizing by sentences\n",
    "def Sent_tokenizing(Text):\n",
    "    Text_sent_tokenized=[]\n",
    "    tokenizer = PunktSentenceTokenizer()\n",
    "    paragraphs = [p for p in Text.split('\\n') if p] #spliting by \\n\n",
    "    for paragraph in paragraphs:\n",
    "        Text_sent_tokenized += tokenizer.tokenize(paragraph,'russian')\n",
    "    return Text_sent_tokenized"
   ]
  },
  {
   "cell_type": "code",
   "execution_count": 6,
   "id": "1246f74b-85bf-4834-ade1-5366ffbf65dc",
   "metadata": {},
   "outputs": [],
   "source": [
    "#tokenize by words\n",
    "def Word_tokenizing(Text):\n",
    "    special_words=string.punctuation\n",
    "    special_words+='»'+'«'+'–'+'”'+'“'+'—' #adding punctuations, that doesnt excist in module\n",
    "    Text_tokens=nltk.word_tokenize(Text)\n",
    "    t_tokenized=[]\n",
    "    \n",
    "    #deleting puntuations\n",
    "    for word in Text_tokens:\n",
    "        if word not in special_words:\n",
    "            t_tokenized.append(word)\n",
    "    return t_tokenized"
   ]
  },
  {
   "cell_type": "code",
   "execution_count": 7,
   "id": "6f84860d-44bc-46ad-876c-5ad372686c7a",
   "metadata": {
    "tags": []
   },
   "outputs": [
    {
     "name": "stdin",
     "output_type": "stream",
     "text": [
      "Please input the file name: text.txt\n"
     ]
    }
   ],
   "source": [
    "#making text object from file\n",
    "file_name=input(\"Please input the file name:\")\n",
    "file=open(file_name,'r',encoding='UTF-8')\n",
    "Text=file.read()\n",
    "file.close()"
   ]
  },
  {
   "cell_type": "code",
   "execution_count": 8,
   "id": "d62a4629-cf4c-42e9-9f15-46b0326aad15",
   "metadata": {},
   "outputs": [
    {
     "data": {
      "application/vnd.jupyter.widget-view+json": {
       "model_id": "ea6153362b7646dfadb3071051f4b861",
       "version_major": 2,
       "version_minor": 0
      },
      "text/plain": [
       "  0%|          | 0/2018 [00:00<?, ?it/s]"
      ]
     },
     "metadata": {},
     "output_type": "display_data"
    }
   ],
   "source": [
    "#make list to analize morphic structure\n",
    "#make dictionary to analyze style of text\n",
    "Text_tokenized=Word_tokenizing(Text)\n",
    "Text_morphy=[]\n",
    "Text_dict={}\n",
    "with tqdm(total=len(Text_tokenized)) as pbar: #to see how many times left\n",
    "    for word in Text_tokenized:\n",
    "        Text_morphy.append(morphy(word))\n",
    "        Text_dict[word]=f_morphy_dict(word)\n",
    "        pbar.update(1)"
   ]
  },
  {
   "cell_type": "code",
   "execution_count": 33,
   "id": "b9926a1c-317e-4c51-a0d1-2a91630277d3",
   "metadata": {},
   "outputs": [],
   "source": [
    "#stop words including\n",
    "#words from module were not enough\n",
    "stop_words_file=open(\"stop_words.txt\",'r',encoding=\"utf-8\")\n",
    "stop_words_list=stop_words_file.read()\n",
    "stop_words_file.close()\n",
    "stop_words=stop_words_list.split('\\n')"
   ]
  },
  {
   "cell_type": "code",
   "execution_count": 38,
   "id": "e3c13a10-d0b4-4483-9c07-129c0d8e6c9f",
   "metadata": {
    "tags": []
   },
   "outputs": [],
   "source": [
    "# осуществлять морфологический анализ словоформ текста;\n",
    "# подсчитывать частоты и ранги различных словоформ и лемм;\n",
    "# выводить списки самых частотных словоформ и лемм;\n",
    "#строить графики (реальный и ожидаемый) зависимости относительной частоты от ранга словоформы и леммы.\n",
    "\n",
    "#clearing digits\n",
    "Text_cleared=[]\n",
    "for word in Text_morphy:\n",
    "    if not word.isdigit() and word not in stop_words:\n",
    "        Text_cleared.append(word)\n",
    "    pbar.update(1)\n",
    "\n",
    "#giving Rank of text\n",
    "Text_counted=dict(Counter(Text_cleared))\n",
    "Text_sorted=dict(sorted(Text_counted.items(),key=operator.itemgetter(1), reverse=True))\n",
    "j=1\n",
    "rang={}\n",
    "for word in Text_sorted.keys():\n",
    "    rang[word]=j\n",
    "    j+=1\n",
    "\n",
    "#counting frequency for each words that inversely proportional of rank\n",
    "#law of Zipf\n",
    "word_frequency={}\n",
    "for word in rang.keys():\n",
    "    word_frequency[word]=0.08/rang[word]#В НКРЯ 0.08"
   ]
  },
  {
   "cell_type": "code",
   "execution_count": 37,
   "id": "e02f3808-922a-4b63-8750-53d051905b38",
   "metadata": {},
   "outputs": [
    {
     "data": {
      "image/png": "[encoded data removed]",
      "text/plain": [
       "<Figure size 640x480 with 1 Axes>"
      ]
     },
     "metadata": {},
     "output_type": "display_data"
    },
    {
     "name": "stdout",
     "output_type": "stream",
     "text": [
      "The highest 10 ranks and frequencies\n",
      "лес : 0.08\n",
      "лагерь : 0.04\n",
      "палатка : 0.02666666666666667\n",
      "дождь : 0.02\n",
      "лялька : 0.016\n",
      "словно : 0.013333333333333334\n",
      "труд : 0.011428571428571429\n",
      "рюкзак : 0.01\n",
      "дерево : 0.008888888888888889\n",
      "собака : 0.008\n"
     ]
    }
   ],
   "source": [
    "#printing graph of frequency/rank\n",
    "plt.plot(word_frequency.values()) #y-gives frequency\n",
    "plt.show()\n",
    "\n",
    "#printing the highest 10 values\n",
    "key=list(word_frequency.keys())\n",
    "value=list(word_frequency.values())\n",
    "print('The highest 10 ranks and frequencies')\n",
    "for i in range(10): \n",
    "    print(key[i],':',value[i])"
   ]
  },
  {
   "cell_type": "code",
   "execution_count": 31,
   "id": "005c1d97-4f3c-4695-9f1c-fc48da718e74",
   "metadata": {},
   "outputs": [],
   "source": [
    "#определение стиля/жанра текста.\n",
    "\n",
    "#counting параметр β, отражающий соотношение динамичности и статичности текстов коллекции\n",
    "# #(гл+сущ) + #(гл+нар) + #(деепр+сущ) + #(деепр+нар) )/(#(сущ+сущ) + #(прил+сущ)), где # – количество конструкций определённого типа\n",
    "Dict_for_beta={'VERB+NOUN':0,'VERB+ADVB':0,'GRND+NOUN':0,'GRND+ADVB':0,'NOUN+NOUN':0,'ADJF+NOUN':0}\n",
    "prev=''\n",
    "for word in Text_dict.keys():\n",
    "    if prev=='':\n",
    "        prev=word\n",
    "        continue\n",
    "    if Text_dict[prev]=='VERB':\n",
    "        if Text_dict[word]=='NOUN':\n",
    "            Dict_for_beta['VERB+NOUN']+=1\n",
    "        elif Text_dict[word]=='ADVB':\n",
    "            Dict_for_beta['VERB+ADVB']+=1\n",
    "    elif Text_dict[prev]=='GRND':\n",
    "        if Text_dict[word]=='NOUN':\n",
    "            Dict_for_beta['GRND+NOUN']+=1\n",
    "        elif Text_dict[word]=='ADVB':\n",
    "            Dict_for_beta['GRND+ADVB']+=1\n",
    "    elif Text_dict[prev]=='NOUN':\n",
    "        if Text_dict[word]=='NOUN':\n",
    "            Dict_for_beta['NOUN+NOUN']+=1\n",
    "    elif Text_dict[prev]=='ADJF':\n",
    "        if Text_dict[word]=='NOUN':\n",
    "            Dict_for_beta['ADJF+NOUN']+=1\n",
    "    prev=word\n",
    "\n",
    "Beta_up=(Dict_for_beta['VERB+NOUN']+Dict_for_beta['VERB+ADVB']+Dict_for_beta['GRND+NOUN']+Dict_for_beta['GRND+ADVB'])\n",
    "Beta_down=Dict_for_beta['NOUN+NOUN']+Dict_for_beta['ADJF+NOUN']\n",
    "Beta=Beta_up/Beta_down\n",
    "\n",
    "#counting midium длины предложения\n",
    "#midium length=length of each sentece / length of all sentences divided by sentence\n",
    "Sent_tokens=Sent_tokenizing(Text)\n",
    "Sent_tokenized=[]\n",
    "for sent in Sent_tokens:\n",
    "    Sent_tokenized.append(Word_tokenizing(sent))\n",
    "mid_len_sent=0\n",
    "for sent in Sent_tokenized:\n",
    "    mid_len_sent+=len(sent)\n",
    "mid_len_sent/=len(Sent_tokens)\n",
    "\n",
    "#calculating other parameter\n",
    "Dict_count=dict(Counter(Text_dict.values()))\n",
    "NPRO=Dict_count['NPRO']/len(Text_counted) #доля частиц\n",
    "PRCL=Dict_count['PRCL']/len(Text_counted) #доля местоимений\n",
    "ADJF=Dict_count['ADJF']/len(Text_counted) #доля прилагательных"
   ]
  },
  {
   "cell_type": "code",
   "execution_count": 32,
   "id": "f53a4f5b-b1fd-4a77-a328-01f342a788ef",
   "metadata": {},
   "outputs": [
    {
     "name": "stdout",
     "output_type": "stream",
     "text": [
      "The type of text: Публицистический стиль\n",
      "\n",
      "{'VERB+NOUN': 64, 'VERB+ADVB': 10, 'GRND+NOUN': 23, 'GRND+ADVB': 7, 'NOUN+NOUN': 161, 'ADJF+NOUN': 146}\n",
      "\n",
      "midium length of sentences= 15.404580152671755\n",
      "доля частиц= 0.03558282208588957\n",
      "доля местоимений= 0.022085889570552148\n",
      "доля прилагательных= 0.249079754601227\n"
     ]
    }
   ],
   "source": [
    "if mid_len_sent>=18 and Beta<=0.1:\n",
    "    print('The type of text: Деловой стиль')\n",
    "elif NPRO>=0.02 and PRCL>=0.03:\n",
    "    print('The type of text: Художественный стиль')\n",
    "elif 0.1<=ADJF<=0.2 and NPRO<=0.025 and Beta<=0.32:\n",
    "    print('The type of text: Научный стиль')\n",
    "else:\n",
    "    print('The type of text: Публицистический стиль')\n",
    "\n",
    "print()\n",
    "print(Dict_for_beta)\n",
    "print(f\"\\nmidium length of sentences= {mid_len_sent}\")\n",
    "print(f\"доля частиц= {NPRO}\\nдоля местоимений= {PRCL}\\nдоля прилагательных= {ADJF}\")"
   ]
  },
  {
   "cell_type": "code",
   "execution_count": null,
   "id": "e4a1aea2-0410-425d-8a8e-ff02e843c5c7",
   "metadata": {},
   "outputs": [],
   "source": []
  }
 ],
 "metadata": {
  "kernelspec": {
   "display_name": "Python 3 (ipykernel)",
   "language": "python",
   "name": "python3"
  },
  "language_info": {
   "codemirror_mode": {
    "name": "ipython",
    "version": 3
   },
   "file_extension": ".py",
   "mimetype": "text/x-python",
   "name": "python",
   "nbconvert_exporter": "python",
   "pygments_lexer": "ipython3",
   "version": "3.10.6"
  }
 },
 "nbformat": 4,
 "nbformat_minor": 5
}
